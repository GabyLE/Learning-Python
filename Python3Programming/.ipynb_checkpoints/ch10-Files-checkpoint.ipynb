{
 "cells": [
  {
   "cell_type": "markdown",
   "metadata": {},
   "source": [
    "# Files"
   ]
  },
  {
   "cell_type": "markdown",
   "metadata": {},
   "source": [
    "## Alternative File Reading Methods"
   ]
  },
  {
   "cell_type": "markdown",
   "metadata": {},
   "source": [
    "Using the file <code>school_prompt2.txt</code>, find the number of characters in the file and assing tha value to the variable <code>num_char</code>"
   ]
  },
  {
   "cell_type": "code",
   "execution_count": 11,
   "metadata": {},
   "outputs": [
    {
     "name": "stdout",
     "output_type": "stream",
     "text": [
      "The file 'school_prompt2.txt' has 536 characters\n"
     ]
    }
   ],
   "source": [
    "file = open(\"Files/school_prompt2.txt\")\n",
    "text = file.read()\n",
    "num_char = 0\n",
    "for i in range(len(text)):\n",
    "    num_char += 1\n",
    "print(\"The file 'school_prompt2.txt' has\", num_char, \"characters\")\n",
    "file.close()"
   ]
  },
  {
   "cell_type": "markdown",
   "metadata": {},
   "source": [
    "Find the number of lines in the file, <code>travel_plans2.txt</code>, and assign it to the variable <code>num_lines</code>"
   ]
  },
  {
   "cell_type": "code",
   "execution_count": 12,
   "metadata": {},
   "outputs": [
    {
     "name": "stdout",
     "output_type": "stream",
     "text": [
      "The file travel_plans2.txt has 11 lines.\n"
     ]
    }
   ],
   "source": [
    "with open(\"Files/travel_plans2.txt\") as objFile:\n",
    "    content = objFile.readlines()\n",
    "\n",
    "num_lines = len(content)\n",
    "print(\"The file travel_plans2.txt has\", num_lines, \"lines.\")"
   ]
  },
  {
   "cell_type": "code",
   "execution_count": 13,
   "metadata": {},
   "outputs": [
    {
     "name": "stdout",
     "output_type": "stream",
     "text": [
      "The file travel_plans2.txt has 11 lines.\n"
     ]
    }
   ],
   "source": [
    "objFile = open(\"Files/travel_plans2.txt\")\n",
    "num_lines = 0\n",
    "for _ in objFile:\n",
    "    num_lines += 1\n",
    "\n",
    "print(\"The file travel_plans2.txt has\",num_lines,\"lines.\")\n",
    "objFile.close()\n"
   ]
  },
  {
   "cell_type": "markdown",
   "metadata": {},
   "source": [
    "Create a strind called <code>first_forty</code> that is comprised of the first 40 characters of <code>emotion_words2.txt</code>."
   ]
  },
  {
   "cell_type": "code",
   "execution_count": 14,
   "metadata": {},
   "outputs": [
    {
     "name": "stdout",
     "output_type": "stream",
     "text": [
      "The first 40 lines of the file emotion_words.txt are:\n",
      " Sad upset blue down melancholy somber bi\n"
     ]
    }
   ],
   "source": [
    "with open(\"Files/emotion_words2.txt\") as objFile:\n",
    "    first_forty = objFile.read(40)\n",
    "\n",
    "print(\"The first 40 lines of the file emotion_words.txt are:\\n\", first_forty)"
   ]
  },
  {
   "cell_type": "markdown",
   "metadata": {},
   "source": [
    "## Iterating over lines in a file"
   ]
  },
  {
   "cell_type": "code",
   "execution_count": 15,
   "metadata": {},
   "outputs": [
    {
     "name": "stdout",
     "output_type": "stream",
     "text": [
      "Name IS FROM Team AND IS ON THE ROSTER FOR Event\n",
      "A Dijiang IS FROM China AND IS ON THE ROSTER FOR Basketball\n",
      "A Lamusi IS FROM China AND IS ON THE ROSTER FOR Judo\n",
      "Gunnar Nielsen Aaby IS FROM Denmark AND IS ON THE ROSTER FOR Football\n",
      "Edgar Lindenau Aabye IS FROM Denmark/Sweden AND IS ON THE ROSTER FOR Tug-Of-War\n",
      "Christine Jacoba Aaftink IS FROM Netherlands AND IS ON THE ROSTER FOR Speed Skating\n",
      "Christine Jacoba Aaftink IS FROM Netherlands AND IS ON THE ROSTER FOR Speed Skating\n",
      "Christine Jacoba Aaftink IS FROM Netherlands AND IS ON THE ROSTER FOR Speed Skating\n",
      "Christine Jacoba Aaftink IS FROM Netherlands AND IS ON THE ROSTER FOR Speed Skating\n",
      "Christine Jacoba Aaftink IS FROM Netherlands AND IS ON THE ROSTER FOR Speed Skating\n",
      "Christine Jacoba Aaftink IS FROM Netherlands AND IS ON THE ROSTER FOR Speed Skating\n",
      "Per Knut Aaland IS FROM United States AND IS ON THE ROSTER FOR Cross Country Skiing\n",
      "Per Knut Aaland IS FROM United States AND IS ON THE ROSTER FOR Cross Country Skiing\n",
      "Per Knut Aaland IS FROM United States AND IS ON THE ROSTER FOR Cross Country Skiing\n",
      "Per Knut Aaland IS FROM United States AND IS ON THE ROSTER FOR Cross Country Skiing\n",
      "Per Knut Aaland IS FROM United States AND IS ON THE ROSTER FOR Cross Country Skiing\n",
      "Per Knut Aaland IS FROM United States AND IS ON THE ROSTER FOR Cross Country Skiing\n",
      "Per Knut Aaland IS FROM United States AND IS ON THE ROSTER FOR Cross Country Skiing\n",
      "Per Knut Aaland IS FROM United States AND IS ON THE ROSTER FOR Cross Country Skiing\n",
      "John Aalberg IS FROM United States AND IS ON THE ROSTER FOR Cross Country Skiing\n",
      "John Aalberg IS FROM United States AND IS ON THE ROSTER FOR Cross Country Skiing\n",
      "John Aalberg IS FROM United States AND IS ON THE ROSTER FOR Cross Country Skiing\n",
      "John Aalberg IS FROM United States AND IS ON THE ROSTER FOR Cross Country Skiing\n",
      "John Aalberg IS FROM United States AND IS ON THE ROSTER FOR Cross Country Skiing\n",
      "John Aalberg IS FROM United States AND IS ON THE ROSTER FOR Cross Country Skiing\n",
      "John Aalberg IS FROM United States AND IS ON THE ROSTER FOR Cross Country Skiing\n",
      "John Aalberg IS FROM United States AND IS ON THE ROSTER FOR Cross Country Skiing\n",
      "\"Cornelia \"\"Cor\"\" Aalten (-Strannood)\" IS FROM Netherlands AND IS ON THE ROSTER FOR Athletics\n",
      "\"Cornelia \"\"Cor\"\" Aalten (-Strannood)\" IS FROM Netherlands AND IS ON THE ROSTER FOR Athletics\n",
      "Antti Sami Aalto IS FROM Finland AND IS ON THE ROSTER FOR Ice Hockey\n",
      "\"Einar Ferdinand \"\"Einari\"\" Aalto\" IS FROM Finland AND IS ON THE ROSTER FOR Swimming\n",
      "Jorma Ilmari Aalto IS FROM Finland AND IS ON THE ROSTER FOR Cross Country Skiing\n",
      "Jyri Tapani Aalto IS FROM Finland AND IS ON THE ROSTER FOR Badminton\n",
      "Minna Maarit Aalto IS FROM Finland AND IS ON THE ROSTER FOR Sailing\n",
      "Minna Maarit Aalto IS FROM Finland AND IS ON THE ROSTER FOR Sailing\n",
      "Pirjo Hannele Aalto (Mattila-) IS FROM Finland AND IS ON THE ROSTER FOR Biathlon\n",
      "Arvo Ossian Aaltonen IS FROM Finland AND IS ON THE ROSTER FOR Swimming\n",
      "Arvo Ossian Aaltonen IS FROM Finland AND IS ON THE ROSTER FOR Swimming\n",
      "Arvo Ossian Aaltonen IS FROM Finland AND IS ON THE ROSTER FOR Swimming\n",
      "Arvo Ossian Aaltonen IS FROM Finland AND IS ON THE ROSTER FOR Swimming\n",
      "Arvo Ossian Aaltonen IS FROM Finland AND IS ON THE ROSTER FOR Swimming\n",
      "Juhamatti Tapio Aaltonen IS FROM Finland AND IS ON THE ROSTER FOR Ice Hockey\n",
      "Paavo Johannes Aaltonen IS FROM Finland AND IS ON THE ROSTER FOR Gymnastics\n",
      "Paavo Johannes Aaltonen IS FROM Finland AND IS ON THE ROSTER FOR Gymnastics\n",
      "Paavo Johannes Aaltonen IS FROM Finland AND IS ON THE ROSTER FOR Gymnastics\n",
      "Paavo Johannes Aaltonen IS FROM Finland AND IS ON THE ROSTER FOR Gymnastics\n",
      "Paavo Johannes Aaltonen IS FROM Finland AND IS ON THE ROSTER FOR Gymnastics\n",
      "Paavo Johannes Aaltonen IS FROM Finland AND IS ON THE ROSTER FOR Gymnastics\n",
      "Paavo Johannes Aaltonen IS FROM Finland AND IS ON THE ROSTER FOR Gymnastics\n",
      "Paavo Johannes Aaltonen IS FROM Finland AND IS ON THE ROSTER FOR Gymnastics\n",
      "Paavo Johannes Aaltonen IS FROM Finland AND IS ON THE ROSTER FOR Gymnastics\n",
      "Paavo Johannes Aaltonen IS FROM Finland AND IS ON THE ROSTER FOR Gymnastics\n",
      "Paavo Johannes Aaltonen IS FROM Finland AND IS ON THE ROSTER FOR Gymnastics\n",
      "Paavo Johannes Aaltonen IS FROM Finland AND IS ON THE ROSTER FOR Gymnastics\n",
      "Paavo Johannes Aaltonen IS FROM Finland AND IS ON THE ROSTER FOR Gymnastics\n",
      "Paavo Johannes Aaltonen IS FROM Finland AND IS ON THE ROSTER FOR Gymnastics\n",
      "Paavo Johannes Aaltonen IS FROM Finland AND IS ON THE ROSTER FOR Gymnastics\n",
      "Paavo Johannes Aaltonen IS FROM Finland AND IS ON THE ROSTER FOR Gymnastics\n",
      "Timo Antero Aaltonen IS FROM Finland AND IS ON THE ROSTER FOR Athletics\n",
      "Win Valdemar Aaltonen IS FROM Finland AND IS ON THE ROSTER FOR Art Competitions\n"
     ]
    }
   ],
   "source": [
    "olympicsFile = open(\"Files/olympics.txt\", \"r\")\n",
    "\n",
    "for aline in olympicsFile.readlines():\n",
    "    values = aline.split(\",\") # break each line into a list\n",
    "    print(values[0], \"IS FROM\", values[3], \"AND IS ON THE ROSTER FOR\", values[4])\n",
    "    \n",
    "olympicsFile.close()"
   ]
  },
  {
   "cell_type": "markdown",
   "metadata": {},
   "source": [
    "Alternative:"
   ]
  },
  {
   "cell_type": "code",
   "execution_count": 16,
   "metadata": {
    "scrolled": false
   },
   "outputs": [
    {
     "name": "stdout",
     "output_type": "stream",
     "text": [
      "Name IS FROM Team AND IS ON THE ROSTER FOR Event\n",
      "A Dijiang IS FROM China AND IS ON THE ROSTER FOR Basketball\n",
      "A Lamusi IS FROM China AND IS ON THE ROSTER FOR Judo\n",
      "Gunnar Nielsen Aaby IS FROM Denmark AND IS ON THE ROSTER FOR Football\n",
      "Edgar Lindenau Aabye IS FROM Denmark/Sweden AND IS ON THE ROSTER FOR Tug-Of-War\n",
      "Christine Jacoba Aaftink IS FROM Netherlands AND IS ON THE ROSTER FOR Speed Skating\n",
      "Christine Jacoba Aaftink IS FROM Netherlands AND IS ON THE ROSTER FOR Speed Skating\n",
      "Christine Jacoba Aaftink IS FROM Netherlands AND IS ON THE ROSTER FOR Speed Skating\n",
      "Christine Jacoba Aaftink IS FROM Netherlands AND IS ON THE ROSTER FOR Speed Skating\n",
      "Christine Jacoba Aaftink IS FROM Netherlands AND IS ON THE ROSTER FOR Speed Skating\n",
      "Christine Jacoba Aaftink IS FROM Netherlands AND IS ON THE ROSTER FOR Speed Skating\n",
      "Per Knut Aaland IS FROM United States AND IS ON THE ROSTER FOR Cross Country Skiing\n",
      "Per Knut Aaland IS FROM United States AND IS ON THE ROSTER FOR Cross Country Skiing\n",
      "Per Knut Aaland IS FROM United States AND IS ON THE ROSTER FOR Cross Country Skiing\n",
      "Per Knut Aaland IS FROM United States AND IS ON THE ROSTER FOR Cross Country Skiing\n",
      "Per Knut Aaland IS FROM United States AND IS ON THE ROSTER FOR Cross Country Skiing\n",
      "Per Knut Aaland IS FROM United States AND IS ON THE ROSTER FOR Cross Country Skiing\n",
      "Per Knut Aaland IS FROM United States AND IS ON THE ROSTER FOR Cross Country Skiing\n",
      "Per Knut Aaland IS FROM United States AND IS ON THE ROSTER FOR Cross Country Skiing\n",
      "John Aalberg IS FROM United States AND IS ON THE ROSTER FOR Cross Country Skiing\n",
      "John Aalberg IS FROM United States AND IS ON THE ROSTER FOR Cross Country Skiing\n",
      "John Aalberg IS FROM United States AND IS ON THE ROSTER FOR Cross Country Skiing\n",
      "John Aalberg IS FROM United States AND IS ON THE ROSTER FOR Cross Country Skiing\n",
      "John Aalberg IS FROM United States AND IS ON THE ROSTER FOR Cross Country Skiing\n",
      "John Aalberg IS FROM United States AND IS ON THE ROSTER FOR Cross Country Skiing\n",
      "John Aalberg IS FROM United States AND IS ON THE ROSTER FOR Cross Country Skiing\n",
      "John Aalberg IS FROM United States AND IS ON THE ROSTER FOR Cross Country Skiing\n",
      "\"Cornelia \"\"Cor\"\" Aalten (-Strannood)\" IS FROM Netherlands AND IS ON THE ROSTER FOR Athletics\n",
      "\"Cornelia \"\"Cor\"\" Aalten (-Strannood)\" IS FROM Netherlands AND IS ON THE ROSTER FOR Athletics\n",
      "Antti Sami Aalto IS FROM Finland AND IS ON THE ROSTER FOR Ice Hockey\n",
      "\"Einar Ferdinand \"\"Einari\"\" Aalto\" IS FROM Finland AND IS ON THE ROSTER FOR Swimming\n",
      "Jorma Ilmari Aalto IS FROM Finland AND IS ON THE ROSTER FOR Cross Country Skiing\n",
      "Jyri Tapani Aalto IS FROM Finland AND IS ON THE ROSTER FOR Badminton\n",
      "Minna Maarit Aalto IS FROM Finland AND IS ON THE ROSTER FOR Sailing\n",
      "Minna Maarit Aalto IS FROM Finland AND IS ON THE ROSTER FOR Sailing\n",
      "Pirjo Hannele Aalto (Mattila-) IS FROM Finland AND IS ON THE ROSTER FOR Biathlon\n",
      "Arvo Ossian Aaltonen IS FROM Finland AND IS ON THE ROSTER FOR Swimming\n",
      "Arvo Ossian Aaltonen IS FROM Finland AND IS ON THE ROSTER FOR Swimming\n",
      "Arvo Ossian Aaltonen IS FROM Finland AND IS ON THE ROSTER FOR Swimming\n",
      "Arvo Ossian Aaltonen IS FROM Finland AND IS ON THE ROSTER FOR Swimming\n",
      "Arvo Ossian Aaltonen IS FROM Finland AND IS ON THE ROSTER FOR Swimming\n",
      "Juhamatti Tapio Aaltonen IS FROM Finland AND IS ON THE ROSTER FOR Ice Hockey\n",
      "Paavo Johannes Aaltonen IS FROM Finland AND IS ON THE ROSTER FOR Gymnastics\n",
      "Paavo Johannes Aaltonen IS FROM Finland AND IS ON THE ROSTER FOR Gymnastics\n",
      "Paavo Johannes Aaltonen IS FROM Finland AND IS ON THE ROSTER FOR Gymnastics\n",
      "Paavo Johannes Aaltonen IS FROM Finland AND IS ON THE ROSTER FOR Gymnastics\n",
      "Paavo Johannes Aaltonen IS FROM Finland AND IS ON THE ROSTER FOR Gymnastics\n",
      "Paavo Johannes Aaltonen IS FROM Finland AND IS ON THE ROSTER FOR Gymnastics\n",
      "Paavo Johannes Aaltonen IS FROM Finland AND IS ON THE ROSTER FOR Gymnastics\n",
      "Paavo Johannes Aaltonen IS FROM Finland AND IS ON THE ROSTER FOR Gymnastics\n",
      "Paavo Johannes Aaltonen IS FROM Finland AND IS ON THE ROSTER FOR Gymnastics\n",
      "Paavo Johannes Aaltonen IS FROM Finland AND IS ON THE ROSTER FOR Gymnastics\n",
      "Paavo Johannes Aaltonen IS FROM Finland AND IS ON THE ROSTER FOR Gymnastics\n",
      "Paavo Johannes Aaltonen IS FROM Finland AND IS ON THE ROSTER FOR Gymnastics\n",
      "Paavo Johannes Aaltonen IS FROM Finland AND IS ON THE ROSTER FOR Gymnastics\n",
      "Paavo Johannes Aaltonen IS FROM Finland AND IS ON THE ROSTER FOR Gymnastics\n",
      "Paavo Johannes Aaltonen IS FROM Finland AND IS ON THE ROSTER FOR Gymnastics\n",
      "Paavo Johannes Aaltonen IS FROM Finland AND IS ON THE ROSTER FOR Gymnastics\n",
      "Timo Antero Aaltonen IS FROM Finland AND IS ON THE ROSTER FOR Athletics\n",
      "Win Valdemar Aaltonen IS FROM Finland AND IS ON THE ROSTER FOR Art Competitions\n"
     ]
    }
   ],
   "source": [
    "with open(\"Files/olympics.txt\", \"r\") as objFile:\n",
    "    for aline in objFile:\n",
    "        values = aline.split(\",\")\n",
    "        print(values[0], \"IS FROM\", values[3], \"AND IS ON THE ROSTER FOR\", values[4])"
   ]
  },
  {
   "cell_type": "markdown",
   "metadata": {},
   "source": [
    "Write code to find out how many lines are in the file <code>emotion_words2.txt</code>. Save this value to the variable <code>num_lines</code>. Do not use the len method."
   ]
  },
  {
   "cell_type": "code",
   "execution_count": 17,
   "metadata": {},
   "outputs": [
    {
     "name": "stdout",
     "output_type": "stream",
     "text": [
      "The file emotion_words2.txt has 7 lines.\n"
     ]
    }
   ],
   "source": [
    "with open(\"Files/emotion_words2.txt\", \"r\") as objFile:\n",
    "    num_lines = 0\n",
    "    for _ in objFile:\n",
    "        num_lines += 1\n",
    "print(\"The file emotion_words2.txt has\",num_lines, \"lines.\")"
   ]
  },
  {
   "cell_type": "markdown",
   "metadata": {},
   "source": [
    "## Recipe for Reading and Processing a File\n",
    "1. Open the file using <code>with</code> and <code>open</code>.\n",
    "2. Use <code>.readlines()</code> to het a list of the lines of text in the file.\n",
    "3. Use a <code>for</code> loop to iterate through the strings in the list, each being one line from the file. On each iteration, process tha line of text.\n",
    "4. When you ar done extracting data from the file, continue writing your code outside of the indentation. Using `with` will automatically close the file once th program exits the with block."
   ]
  },
  {
   "cell_type": "markdown",
   "metadata": {},
   "source": [
    "```python\n",
    "fname = \"yourfile.txt\"\n",
    "with open(fname, 'r') as fileref:         # step 1\n",
    "    lines = fileref.readlines()           # step 2\n",
    "    for lin in lines:                     # step 3\n",
    "        #some code that references the variable lin\n",
    "#some other code not relying on fileref   # step 4\n",
    "```"
   ]
  },
  {
   "cell_type": "markdown",
   "metadata": {},
   "source": [
    "However, this will not be good to use when you are working with large data. Imagine working with a datafile that has 1000 rows of data. It would take a long time to read in all the data and then if you had to iterate over it, even more time would be necessary. This would be a case where programmers prefer another option for efficiency reasons.\n",
    "\n",
    "This option involves iterating over the file itself while still iterating over each line in the file:"
   ]
  },
  {
   "cell_type": "markdown",
   "metadata": {},
   "source": [
    "```python\n",
    "fname = \"yourfile.txt\"\n",
    "with open(fname, 'r) as fileref:                # step 1\n",
    "          for lin in fileref:                   # step 2\n",
    "              ## some code that refrence the variable lin\n",
    "# some other code not relying on fileref        # step 3\n",
    "```"
   ]
  },
  {
   "cell_type": "markdown",
   "metadata": {},
   "source": [
    "## Writing Text Files\n"
   ]
  },
  {
   "cell_type": "markdown",
   "metadata": {},
   "source": [
    "- When open a file for writing, a new, empty file with that name is created and made ready to accept data.\n",
    "- If an existing file has the same name, its contenst ar overwritten."
   ]
  },
  {
   "cell_type": "code",
   "execution_count": 3,
   "metadata": {},
   "outputs": [
    {
     "name": "stdout",
     "output_type": "stream",
     "text": [
      "1\n",
      "4\n",
      "9\n",
      "16\n",
      "25\n"
     ]
    }
   ],
   "source": [
    "# escribe en el archivo\n",
    "filename = \"Files/squared_numbers.txg\"\n",
    "outfile = open(filename, 'w')\n",
    "\n",
    "for number in range(1, 13):\n",
    "    square = number * number\n",
    "    outfile.write(str(square) + \"\\n\")\n",
    "    \n",
    "outfile.close()\n",
    "\n",
    "# imprime lo que hay en el archivo\n",
    "infile = open(filename, 'r')\n",
    "print(infile.read()[:11])\n",
    "infile.close()"
   ]
  },
  {
   "cell_type": "markdown",
   "metadata": {},
   "source": [
    "## CSV Format\n",
    "CSV stands for Comma Separated Values. If you print out tabular data in CSV format, it can be easily imported into other programs like Excel, Google spreadsheets, or a statistics package (R, stata, SPSS, etc.).\n",
    "\n",
    "For example, we can make a file with the following contents. If you save it as a file name grades.csv, then you could import it into one of those programs. The first line gives the column names and the later lines each give the data for one row."
   ]
  },
  {
   "cell_type": "markdown",
   "metadata": {},
   "source": [
    "```python\n",
    "Name,score,grade\n",
    "Jamal,98,A+\n",
    "Eloise,87,B+\n",
    "Madeline,99,A+\n",
    "Wei,94,A\n",
    "```"
   ]
  },
  {
   "cell_type": "markdown",
   "metadata": {},
   "source": [
    "## Reading in data from a CSV File\n",
    "Typically, CSV files will have a header as the first line, which contains column names. Then, each following row in the file will contain data that corresponds to the appropriate columns."
   ]
  },
  {
   "cell_type": "code",
   "execution_count": 7,
   "metadata": {},
   "outputs": [
    {
     "name": "stdout",
     "output_type": "stream",
     "text": [
      "Edgar Lindenau Aabye: Tug-Of-War; Gold\n",
      "Arvo Ossian Aaltonen: Swimming; Bronze\n",
      "Arvo Ossian Aaltonen: Swimming; Bronze\n",
      "Juhamatti Tapio Aaltonen: Ice Hockey; Bronze\n",
      "Paavo Johannes Aaltonen: Gymnastics; Bronze\n",
      "Paavo Johannes Aaltonen: Gymnastics; Gold\n",
      "Paavo Johannes Aaltonen: Gymnastics; Gold\n",
      "Paavo Johannes Aaltonen: Gymnastics; Gold\n",
      "Paavo Johannes Aaltonen: Gymnastics; Bronze\n"
     ]
    }
   ],
   "source": [
    "fileconnection = open(\"Files/olympics.txt\", \"r\")\n",
    "lines = fileconnection.readlines()\n",
    "# get headers\n",
    "header = lines[0]\n",
    "# get rid of the trailing \\n and split on commas \",\" to get the values\n",
    "# and add them in a list\n",
    "field_names = header.strip().split(\",\")\n",
    "for row in lines[1:]:\n",
    "    vals = row.strip().split(\",\")\n",
    "    # only the ones that won a medal\n",
    "    if vals[5] != \"NA\":\n",
    "        print(\"{}: {}; {}\".format(vals[0], vals[4], vals[5]))"
   ]
  },
  {
   "cell_type": "markdown",
   "metadata": {},
   "source": [
    "The CSV format is actually a little more general than we have described and has a couple of solutions for that problem. One alternative format uses a different column separator, such as | or a tab (t). Sometimes, when a tab is used, the format is called tsv, for tab-separated values). If you get a file using a different separator, you can just call the `.split('|')` or `.split('\\\\t')`."
   ]
  },
  {
   "cell_type": "markdown",
   "metadata": {},
   "source": [
    "> Other advanced CSV format uses commas to separate but encloses all values in double quotes.\n",
    "\n",
    "For example, the data file might look like:\n",
    "```python\n",
    "\"Name\",\"Sex\",\"Age\",\"Team\",\"Event\",\"Medal\"\n",
    "\"A Dijiang\",\"M\",\"24\",\"China\",\"Basketball\",\"NA\"\n",
    "\"Edgar Lindenau Aabye\",\"M\",\"34\",\"Denmark/Sweden\",\"Tug-Of-War\",\"Gold\"\n",
    "\"Christine Jacoba Aaftink\",\"F\",\"21\",\"Netherlands\",\"Speed Skating, 1500M\",\"NA\"\n",
    "```\n",
    "If you are reading a .csv file that has enclosed all values in double quotes, it’s actually a pretty tricky programming problem to split the text for one row into a list of values. You won’t want to try to do it directly. Instead, **you should use python’s built-in csv module**. However, there’s a bit of a learning curve for that, and we find that students gain a better understanding of reading CSV format by first learning to read the simple, unquoted format and split lines on commas."
   ]
  },
  {
   "cell_type": "markdown",
   "metadata": {},
   "source": [
    "## Writing data to a CSV File\n",
    "1. Write a header row.\n",
    "2. Loop through the items in a list, outpurring one row for each."
   ]
  },
  {
   "cell_type": "code",
   "execution_count": 9,
   "metadata": {},
   "outputs": [],
   "source": [
    "olympians = [(\"John Aalberg\", 31, \"Cross Country Skiing\"),\n",
    "             (\"Minna Maarit Aalto\", 30, \"Sailing\"),\n",
    "             (\"Win Valdemar Aaltonen\", 54, \"Art Competitions\"),\n",
    "             (\"Wakako Abe\", 18, \"Cycling\")]\n",
    "# created the csv file and set it as to write 'w'\n",
    "outfile = open(\"Files/reduced_olympics.csv\", \"w\")\n",
    "# output the header row\n",
    "outfile.write(\"Name,Age,Sport\")\n",
    "outfile.write(\"\\n\") # .write method does not automatically insert a newline\n",
    "# output each of the rows\n",
    "for olympian in olympians:\n",
    "    row_string = \"{},{},{}\".format(olympian[0], olympian[1], olympian[2])\n",
    "    # alternative way\n",
    "    # row_string = \",\".join(olympian[0], olympian[1], olympian[2])\n",
    "    outfile.write(row_string)\n",
    "    outfile.write(\"\\n\")\n",
    "# close and save file\n",
    "outfile.close()"
   ]
  },
  {
   "cell_type": "code",
   "execution_count": 12,
   "metadata": {},
   "outputs": [
    {
     "name": "stdout",
     "output_type": "stream",
     "text": [
      "Name,Age,Sport\n",
      "John Aalberg,31,Cross Country Skiing\n",
      "Minna Maarit Aalto,30,Sailing\n",
      "Win Valdemar Aaltonen,54,Art Competitions\n",
      "Wakako Abe,18,Cycling\n"
     ]
    }
   ],
   "source": [
    "infile = open(\"Files/reduced_olympics.csv\")\n",
    "for row in infile:\n",
    "    print(row.strip())\n",
    "infile.close()"
   ]
  },
  {
   "cell_type": "markdown",
   "metadata": {},
   "source": [
    "> Advance technique for automatically unpacking the three values from the tuple, with `.format(*olympian)`"
   ]
  },
  {
   "cell_type": "markdown",
   "metadata": {},
   "source": [
    "As described previously, if one or more columns contain text, and that text could contain commas, we need to do something to distinguish a comma in the text from a comma that is separating different values (cells in the table). If we want to enclose each value in double quotes, it can start to get a little tricky, because we will need to have the double quote character inside the string output. But it is doable. Indeed, one reason Python allows strings to be delimited with either single quotes or double quotes is so that one can be used to delimit the string and the other can be a character in the string. **If you get to the point where you need to quote all of the values, we recommend learning to use python’s csv module.**"
   ]
  },
  {
   "cell_type": "code",
   "execution_count": 14,
   "metadata": {},
   "outputs": [],
   "source": [
    "olympians = [(\"John Aalberg\", 31, \"Cross Country Skiing, 15KM\"),\n",
    "             (\"Minna Maarit Aalto\", 30, \"Sailing\"),\n",
    "             (\"Win Valdemar Aaltonen\", 54, \"Art Competitions\"),\n",
    "             (\"Wakako Abe\", 18, \"Cycling\")]\n",
    "\n",
    "outfile = open(\"Files/reduced_olympics2.csv\", \"w\")\n",
    "# output the header row\n",
    "outfile.write('\"Name\",\"Age\",\"Sport\"')\n",
    "outfile.write('\\n')\n",
    "# output each of the rows:\n",
    "for olympian in olympians:\n",
    "    row_string = '\"{}\", \"{}\", \"{}\"'.format(olympian[0], olympian[1], olympian[2])\n",
    "    outfile.write(row_string)\n",
    "    outfile.write('\\n')\n",
    "outfile.close()"
   ]
  },
  {
   "cell_type": "code",
   "execution_count": 15,
   "metadata": {},
   "outputs": [
    {
     "name": "stdout",
     "output_type": "stream",
     "text": [
      "\"Name\",\"Age\",\"Sport\"\n",
      "\"John Aalberg\", \"31\", \"Cross Country Skiing, 15KM\"\n",
      "\"Minna Maarit Aalto\", \"30\", \"Sailing\"\n",
      "\"Win Valdemar Aaltonen\", \"54\", \"Art Competitions\"\n",
      "\"Wakako Abe\", \"18\", \"Cycling\"\n"
     ]
    }
   ],
   "source": [
    "infile = open(\"Files/reduced_olympics2.csv\")\n",
    "for row in infile:\n",
    "    print(row.strip())\n",
    "infile.close()"
   ]
  },
  {
   "cell_type": "markdown",
   "metadata": {},
   "source": [
    "## Tips on Handling Files\n",
    "* When naming files, it's best to not include spaces.\n",
    "* Specify the extension. If a file contains CSV data, name it with the extension `.csv`, not `.txt`."
   ]
  },
  {
   "cell_type": "markdown",
   "metadata": {},
   "source": [
    "## Glossary\n",
    "**open**\n",
    "You must open a file before you can read its contents.\n",
    "\n",
    "**close**\n",
    "When you are done with a file, you should close it.\n",
    "\n",
    "**read**\n",
    "Will read the entire contents of a file as a string. This is often used in an assignment statement so that a variable can reference the contents of the file.\n",
    "\n",
    "**readline**\n",
    "Will read a single line from the file, up to and including the first instance of the newline character.\n",
    "\n",
    "**readlines**\n",
    "Will read the entire contents of a file into a list where each line of the file is a string and is an element in the list.\n",
    "\n",
    "**write**\n",
    "Will add characters to the end of a file that has been opened for writing."
   ]
  },
  {
   "cell_type": "markdown",
   "metadata": {},
   "source": [
    "## Exercises"
   ]
  },
  {
   "cell_type": "markdown",
   "metadata": {},
   "source": [
    "Create a list called `destination`using the data stored in `travel_plans2.txt`. Each element of the list should contain a line from the file tha lists a country and cities inside that country. Hint: each line tha has this information also has a colon `:`in it."
   ]
  },
  {
   "cell_type": "code",
   "execution_count": 19,
   "metadata": {},
   "outputs": [
    {
     "name": "stdout",
     "output_type": "stream",
     "text": [
      "['Italy: Rome', 'Greece: Athens', 'England: London, Manchester', 'France: Paris, Nice, Lyon', 'Spain: Madrid, Barcelona, Granada', 'Austria: Vienna']\n"
     ]
    }
   ],
   "source": [
    "with open(\"Files/travel_plans2.txt\") as file:\n",
    "    destination = []\n",
    "    for line in file:\n",
    "        if \":\" in line:\n",
    "            destination.append(line.strip())\n",
    "print(destination)"
   ]
  },
  {
   "cell_type": "markdown",
   "metadata": {},
   "source": [
    "Create a list called `j_emotions` that contains every word in `emotion_words2.txt` that begins with the letter \"j\"."
   ]
  },
  {
   "cell_type": "code",
   "execution_count": 20,
   "metadata": {},
   "outputs": [
    {
     "name": "stdout",
     "output_type": "stream",
     "text": [
      "['joyous', 'jittery', 'jumpy']\n"
     ]
    }
   ],
   "source": [
    "with open(\"Files/emotion_words2.txt\") as file:\n",
    "    j_emotions = []\n",
    "    for line in file:\n",
    "        words = line.strip().split(\" \")\n",
    "        for word in words:\n",
    "            if word.startswith(\"j\"):\n",
    "                j_emotions.append(word)\n",
    "print(j_emotions)"
   ]
  },
  {
   "cell_type": "code",
   "execution_count": 23,
   "metadata": {
    "scrolled": true
   },
   "outputs": [
    {
     "name": "stdout",
     "output_type": "stream",
     "text": [
      "['joyous', 'jittery', 'jumpy']\n"
     ]
    }
   ],
   "source": [
    "with open(\"Files/emotion_words2.txt\") as file:\n",
    "    j_emotions = []\n",
    "    words = file.read().strip().split()\n",
    "    for word in words:\n",
    "        if word.startswith(\"j\"):\n",
    "            j_emotions.append(word)\n",
    "print(j_emotions)"
   ]
  },
  {
   "cell_type": "markdown",
   "metadata": {},
   "source": [
    "The textfile, `travel_plans.txt`, contains the summer travel plans for someone with some commentary. Find the total number of characters in the file and save to the variable `num`."
   ]
  },
  {
   "cell_type": "code",
   "execution_count": 21,
   "metadata": {},
   "outputs": [
    {
     "name": "stdout",
     "output_type": "stream",
     "text": [
      "315\n"
     ]
    }
   ],
   "source": [
    "with open(\"Files/travel_plans2.txt\", \"r\") as file:\n",
    "    content = file.read()\n",
    "    num = len(content)\n",
    "print(num)"
   ]
  },
  {
   "cell_type": "markdown",
   "metadata": {},
   "source": [
    "We have provided a file called `emotion_words2.txt` that contains lines of words that describe emotions. Find the total number of words in the file and assign this value to the variable `num_words`."
   ]
  },
  {
   "cell_type": "code",
   "execution_count": 24,
   "metadata": {},
   "outputs": [
    {
     "name": "stdout",
     "output_type": "stream",
     "text": [
      "48\n"
     ]
    }
   ],
   "source": [
    "with open(\"Files/emotion_words2.txt\", \"r\") as file:\n",
    "    words = file.read().strip().split()\n",
    "    num_words = len(words)\n",
    "print(num_words)"
   ]
  },
  {
   "cell_type": "markdown",
   "metadata": {},
   "source": [
    "**Challenge:** Using the file `school_prompt2.txt`, assign the third word of every line to a list called three."
   ]
  },
  {
   "cell_type": "code",
   "execution_count": 25,
   "metadata": {},
   "outputs": [
    {
     "name": "stdout",
     "output_type": "stream",
     "text": [
      "['for', 'find', 'to', 'many', 'they', 'solid', 'for', 'have', 'some', 'ups,']\n"
     ]
    }
   ],
   "source": [
    "with open(\"Files/school_prompt2.txt\", \"r\") as objFile:\n",
    "    three = []\n",
    "    for line in objFile:\n",
    "        three.append(line.strip().split()[2])\n",
    "print(three)"
   ]
  },
  {
   "cell_type": "markdown",
   "metadata": {},
   "source": [
    "**Challenge:** Using the file `school_prompt2.txt`, if the character ‘p’ is in a word, then add the word to a list called `p_words`."
   ]
  },
  {
   "cell_type": "code",
   "execution_count": 26,
   "metadata": {},
   "outputs": [
    {
     "name": "stdout",
     "output_type": "stream",
     "text": [
      "['topic', 'point', 'papers,', 'ups,', 'scripts.']\n"
     ]
    }
   ],
   "source": [
    "with open(\"Files/school_prompt2.txt\", \"r\") as objFile:\n",
    "    p_words = []\n",
    "    words = objFile.read().strip().split()\n",
    "    for word in words:\n",
    "        if \"p\" in word:\n",
    "            p_words.append(word)\n",
    "print(p_words)"
   ]
  },
  {
   "cell_type": "markdown",
   "metadata": {},
   "source": [
    "Read in the contents of the file `SP500.txt` which has monthly data for 2016 and 2017 about the S&P 500 closing prices as well as some other financial indicators, including the “Long Term Interest Rate”, which is interest rate paid on 10-year U.S. government bonds.\n",
    "\n",
    "Write a program that computes the average closing price (the second column, labeled SP500) and the highest long-term interest rate. Both should be computed only for the period from June 2016 through May 2017. Save the results in the variables `mean_SP` and `max_interest`."
   ]
  },
  {
   "cell_type": "code",
   "execution_count": 33,
   "metadata": {},
   "outputs": [
    {
     "name": "stdout",
     "output_type": "stream",
     "text": [
      "Average closing prince: 2236.8816666666667\n",
      "Highest long-term interest rate: 2.49\n"
     ]
    }
   ],
   "source": [
    "def elementIndex(lstLines,string):\n",
    "    index = 0\n",
    "    i = 0\n",
    "    while True:\n",
    "        vals1 = lstLines[i].strip().split(\",\")\n",
    "        if vals1[0] == string:\n",
    "            return index\n",
    "        index += 1\n",
    "        i += 1\n",
    "        \n",
    "objFile = open(\"Files/SP500.txt\", \"r\")\n",
    "lines = objFile.readlines()\n",
    "# header = lines[0]\n",
    "# field_names = header.strip().split(\",\")\n",
    "\n",
    "june16 = elementIndex(lines, \"6/1/2016\")\n",
    "may17 = elementIndex(lines, \"5/1/2017\")\n",
    "\n",
    "#sum = 0\n",
    "#acu = 0\n",
    "lst_SP = []\n",
    "lst_interest = []\n",
    "for row in lines[june16:may17+1]:\n",
    "    vals = row.strip().split(\",\")\n",
    "    #sum += float(vals[1])\n",
    "    #acu += 1\n",
    "    lst_SP.append(float(vals[1]))\n",
    "    lst_interest.append(float(vals[5]))\n",
    "# print(\"june16:\",elementIndex(lines,\"6/1/2016\"))  \n",
    "objFile.close()\n",
    "\n",
    "mean_SP = sum(lst_SP)/len(lst_SP)\n",
    "max_interest = max(lst_interest)\n",
    "\n",
    "print(\"Average closing prince:\", mean_SP)\n",
    "print(\"Highest long-term interest rate:\", max_interest)"
   ]
  },
  {
   "cell_type": "code",
   "execution_count": 1,
   "metadata": {},
   "outputs": [
    {
     "name": "stdout",
     "output_type": "stream",
     "text": [
      "Average closing price: 2236.8816666666667\n",
      "Highest long-term interest rate: 2.49\n"
     ]
    }
   ],
   "source": [
    "# alternative 2\n",
    "\n",
    "def mean(lst, limInf, limSup):\n",
    "    suma = 0\n",
    "    n = 0\n",
    "    for i in range(limInf, limSup + 1):\n",
    "        suma += lst[i]\n",
    "        n += 1\n",
    "    mean = suma/n\n",
    "    return mean\n",
    "\n",
    "def maximum(lst, limInf, limSup):\n",
    "    maxi = 0\n",
    "    for i in range(limInf, limSup + 1):\n",
    "        if lst[i] > maxi:\n",
    "            maxi = lst[i]\n",
    "    return maxi\n",
    "\n",
    "def index(lst, string):\n",
    "    index = 0\n",
    "    for dato in lst:\n",
    "        if dato == string:\n",
    "            return index\n",
    "        index += 1\n",
    "        \n",
    "with open(\"Files/SP500.txt\") as objFile:\n",
    "    lst_sp = []\n",
    "    lst_interest = []\n",
    "    lst_date = []\n",
    "    lines = objFile.readlines()\n",
    "    for line in lines[1:]:\n",
    "        datos = line.split(\",\")\n",
    "        lst_sp.append(float(datos[1]))\n",
    "        lst_interest.append(float(datos[5]))\n",
    "        lst_date.append(datos[0])\n",
    "        \n",
    "june16 = index(lst_date, \"6/1/2016\")\n",
    "may17 = index(lst_date, \"5/1/2017\")\n",
    "\n",
    "mean_SP = mean(lst_sp, june16, may17)\n",
    "max_interest = maximum(lst_interest, june16, may17)\n",
    "\n",
    "print(\"Average closing price:\", mean_SP)\n",
    "print(\"Highest long-term interest rate:\", max_interest)"
   ]
  }
 ],
 "metadata": {
  "kernelspec": {
   "display_name": "Python 3",
   "language": "python",
   "name": "python3"
  },
  "language_info": {
   "codemirror_mode": {
    "name": "ipython",
    "version": 3
   },
   "file_extension": ".py",
   "mimetype": "text/x-python",
   "name": "python",
   "nbconvert_exporter": "python",
   "pygments_lexer": "ipython3",
   "version": "3.9.1"
  },
  "metadata": {
   "interpreter": {
    "hash": "2031f9519a7c89e6e764d298a7cc2bf310f53fcc368717afac921416e61cc7f7"
   }
  }
 },
 "nbformat": 4,
 "nbformat_minor": 2
}
