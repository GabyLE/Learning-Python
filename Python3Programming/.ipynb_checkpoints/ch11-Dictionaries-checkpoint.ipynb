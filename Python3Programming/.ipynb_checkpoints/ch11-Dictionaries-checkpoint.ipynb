{
 "cells": [
  {
   "cell_type": "markdown",
   "id": "b8604cc4",
   "metadata": {},
   "source": [
    "# Dictionaries"
   ]
  },
  {
   "cell_type": "markdown",
   "id": "d0dc5862",
   "metadata": {},
   "source": [
    "Dictionaries are a different kind of collection. They are Python’s built-in **mapping** type. A map is an unordered, associative collection. The association, or mapping, is from a **key**, which can be of any immutable type, to a **value**, which can be any Python data object. "
   ]
  },
  {
   "cell_type": "code",
   "execution_count": 1,
   "id": "bdd6c512",
   "metadata": {},
   "outputs": [
    {
     "name": "stdout",
     "output_type": "stream",
     "text": [
      "{'one': 'uno', 'two': 'dos', 'three': 'tres'}\n"
     ]
    }
   ],
   "source": [
    "# creates an empty dictionary\n",
    "eng2sp = {}\n",
    "# fill the dictionarie\n",
    "# dic[key] = value\n",
    "eng2sp['one'] = 'uno'\n",
    "eng2sp['two'] = 'dos'\n",
    "eng2sp['three'] = 'tres'\n",
    "# shows the dictionary\n",
    "print(eng2sp)"
   ]
  },
  {
   "cell_type": "code",
   "execution_count": 2,
   "id": "49daafe8",
   "metadata": {},
   "outputs": [
    {
     "name": "stdout",
     "output_type": "stream",
     "text": [
      "{'three': 'tres', 'one': 'uno', 'two': 'dos'}\n"
     ]
    }
   ],
   "source": [
    "# second way two create a dictionary\n",
    "eng2sp = {'three': 'tres', 'one': 'uno', 'two': 'dos'}\n",
    "print(eng2sp)"
   ]
  },
  {
   "cell_type": "markdown",
   "id": "8fafb066",
   "metadata": {},
   "source": [
    ">It doesn’t matter what order we write the pairs. The values in a dictionary are accessed with keys, not with indices, so there is no need to care about ordering."
   ]
  },
  {
   "cell_type": "code",
   "execution_count": 3,
   "id": "5cee19ad",
   "metadata": {},
   "outputs": [
    {
     "name": "stdout",
     "output_type": "stream",
     "text": [
      "dos\n",
      "uno\n"
     ]
    }
   ],
   "source": [
    "# How to use a key to look up the corresponding value\n",
    "\n",
    "value = eng2sp['two']\n",
    "print(value)\n",
    "print(eng2sp['one'])"
   ]
  },
  {
   "cell_type": "markdown",
   "id": "fe508ae1",
   "metadata": {},
   "source": [
    "## Dictionary operations"
   ]
  },
  {
   "cell_type": "markdown",
   "id": "20f20dcf",
   "metadata": {},
   "source": [
    "The `del`statement removes a key-value pair from a dictionary"
   ]
  },
  {
   "cell_type": "code",
   "execution_count": 4,
   "id": "d51bcafa",
   "metadata": {},
   "outputs": [
    {
     "name": "stdout",
     "output_type": "stream",
     "text": [
      "{'apples': 430, 'bananas': 312, 'oranges': 525}\n"
     ]
    }
   ],
   "source": [
    "inventory = {'apples': 430, 'bananas': 312, 'oranges': 525, 'pears': 217}\n",
    "del inventory['pears']\n",
    "print(inventory)"
   ]
  },
  {
   "cell_type": "markdown",
   "id": "126bdcee",
   "metadata": {},
   "source": [
    "<div class=\"alert alert-block alert-info\">\n",
    "<b>Note:</b> Dictionaries are mutable.</div>"
   ]
  },
  {
   "cell_type": "code",
   "execution_count": 5,
   "id": "159d4913",
   "metadata": {},
   "outputs": [],
   "source": [
    "inventory = {'apples': 430, 'bananas': 312, 'oranges': 525, 'pears': 217}\n",
    "# change the value of 'bananas'\n",
    "inventory['bananas'] = inventory['bananas'] + 200\n",
    "# returns the number of key-value pairs\n",
    "numItems = len(inventory)"
   ]
  },
  {
   "cell_type": "markdown",
   "id": "d8976918",
   "metadata": {},
   "source": [
    "## Dictionary methods"
   ]
  },
  {
   "cell_type": "markdown",
   "id": "44b472b3",
   "metadata": {},
   "source": [
    "|Method|Parameters|Description|\n",
    "|------|------|------|\n",
    "|keys|none|Returns a view of the keys in the dictionary |\n",
    "|values|none|Retruns a view of the values in the dictionary|\n",
    "|items|none|Returns a view of the key-value pairs in the dictionary|\n",
    "|get|key|Retruns the value associated with key; `None`otherwise|\n",
    "|get|key,alt|Returns the value associated with key; `alt`otherwise|"
   ]
  },
  {
   "cell_type": "markdown",
   "id": "92fad25e",
   "metadata": {},
   "source": [
    "### .key()"
   ]
  },
  {
   "cell_type": "code",
   "execution_count": 6,
   "id": "e956e9f5",
   "metadata": {},
   "outputs": [
    {
     "name": "stdout",
     "output_type": "stream",
     "text": [
      "Got key apples which maps to value 430\n",
      "Got key bananas which maps to value 312\n",
      "Got key oranges which maps to value 525\n",
      "Got key pears which maps to value 217\n",
      "['apples', 'bananas', 'oranges', 'pears']\n"
     ]
    }
   ],
   "source": [
    "inventory = {'apples': 430, 'bananas': 312, 'oranges': 525, 'pears': 217}\n",
    "\n",
    "for akey in inventory.keys():     # the order in which we get the keys is not defined\n",
    "    print(\"Got key\", akey, \"which maps to value\", inventory[akey])\n",
    "\n",
    "ks = list(inventory.keys())\n",
    "print(ks)"
   ]
  },
  {
   "cell_type": "markdown",
   "id": "6f575aa7",
   "metadata": {},
   "source": [
    "Iterating over a dictionary implicitly iterates over its keys."
   ]
  },
  {
   "cell_type": "code",
   "execution_count": 7,
   "id": "50a5a4dd",
   "metadata": {
    "scrolled": true
   },
   "outputs": [
    {
     "name": "stdout",
     "output_type": "stream",
     "text": [
      "Got key apples\n",
      "Got key bananas\n",
      "Got key oranges\n",
      "Got key pears\n"
     ]
    }
   ],
   "source": [
    "inventory = {'apples': 430, 'bananas': 312, 'oranges': 525, 'pears': 217}\n",
    "\n",
    "for k in inventory:\n",
    "    print(\"Got key\", k)"
   ]
  },
  {
   "cell_type": "markdown",
   "id": "fbe380f3",
   "metadata": {},
   "source": [
    "The `values`and `items`methods are similar to `keys`. They return the objects which can be iterated over. \n",
    "<div class=\"alert alert-block alert-danger\">\n",
    "    <b>Note:</b> The item objects are <strong>tuples</strong> containing the key and the associated value.</div>"
   ]
  },
  {
   "cell_type": "code",
   "execution_count": 8,
   "id": "f69f7174",
   "metadata": {},
   "outputs": [
    {
     "name": "stdout",
     "output_type": "stream",
     "text": [
      "[430, 312, 525, 217]\n",
      "[('apples', 430), ('bananas', 312), ('oranges', 525), ('pears', 217)]\n",
      "Got apples that maps to 430\n",
      "Got bananas that maps to 312\n",
      "Got oranges that maps to 525\n",
      "Got pears that maps to 217\n"
     ]
    }
   ],
   "source": [
    "inventory = {'apples': 430, 'bananas': 312, 'oranges': 525, 'pears': 217}\n",
    "\n",
    "print(list(inventory.values()))\n",
    "print(list(inventory.items()))\n",
    "\n",
    "for k in inventory:\n",
    "    print(\"Got\",k,\"that maps to\",inventory[k])"
   ]
  },
  {
   "cell_type": "code",
   "execution_count": 9,
   "id": "27125b79",
   "metadata": {},
   "outputs": [
    {
     "name": "stdout",
     "output_type": "stream",
     "text": [
      "Got apples that maps to 430\n",
      "Got bananas that maps to 312\n",
      "Got oranges that maps to 525\n",
      "Got pears that maps to 217\n"
     ]
    }
   ],
   "source": [
    "for k,v in inventory.items():\n",
    "    print(\"Got\",k,\"that maps to\",v)"
   ]
  },
  {
   "cell_type": "markdown",
   "id": "6f9bb9f9",
   "metadata": {},
   "source": [
    "<div class=\"alert alert-block alert-info\">\n",
    "<b>Note:</b> Technically, .keys(), .values(), and .items() don’t return actual lists. They return objects that produce the items one at a time, rather than producing and storing all of them in advance as a list.If you want to get the first key, you need to make the collection of keys into a real list before using <code>[0]</code> to index into it: <code>list(inventory.keys())[0]</code>.</div>"
   ]
  },
  {
   "cell_type": "code",
   "execution_count": 10,
   "id": "9c3e086f",
   "metadata": {},
   "outputs": [
    {
     "name": "stdout",
     "output_type": "stream",
     "text": [
      "<class 'dict_keys'>\n"
     ]
    }
   ],
   "source": [
    "print(type(inventory.keys()))"
   ]
  },
  {
   "cell_type": "code",
   "execution_count": 11,
   "id": "683ec4d6",
   "metadata": {},
   "outputs": [
    {
     "name": "stdout",
     "output_type": "stream",
     "text": [
      "<class 'list'>\n"
     ]
    }
   ],
   "source": [
    "print(type(list(inventory.keys())))"
   ]
  },
  {
   "cell_type": "code",
   "execution_count": 13,
   "id": "830a4f03",
   "metadata": {},
   "outputs": [
    {
     "name": "stdout",
     "output_type": "stream",
     "text": [
      "apples\n"
     ]
    }
   ],
   "source": [
    "print(list(inventory.keys())[0])"
   ]
  },
  {
   "cell_type": "markdown",
   "id": "9d8511a0",
   "metadata": {},
   "source": [
    "The `in` and `not in` operators can test if a key is in the dictionary:"
   ]
  },
  {
   "cell_type": "code",
   "execution_count": 14,
   "id": "61224b76",
   "metadata": {},
   "outputs": [
    {
     "name": "stdout",
     "output_type": "stream",
     "text": [
      "True\n",
      "False\n",
      "312\n"
     ]
    }
   ],
   "source": [
    "inventory = {'apples': 430, 'bananas': 312, 'oranges': 525, 'pears': 217}\n",
    "print('apples' in inventory)\n",
    "print('cherries' in inventory)\n",
    "\n",
    "if 'bananas' in inventory:\n",
    "    print(inventory['bananas'])\n",
    "else:\n",
    "    print(\"We have no bananas\")"
   ]
  },
  {
   "cell_type": "markdown",
   "id": "fa04d937",
   "metadata": {},
   "source": [
    "This operator can be very useful since looking up a non-existent key in a dictionary causes a runtime error.\n",
    "\n",
    "The `get` method allows us to access the value associated with a key, similar to the `[ ]` operator. **The important difference is that get will not cause a runtime error** if the key is not present. It will instead return None. There exists a variation of `get` that allows a second parameter that serves as an alternative return value in the case where the key is not present. This can be seen in the final example below. In this case, since “cherries” is not a key, return 0 (instead of None)."
   ]
  },
  {
   "cell_type": "code",
   "execution_count": 15,
   "id": "2502eaf6",
   "metadata": {},
   "outputs": [
    {
     "name": "stdout",
     "output_type": "stream",
     "text": [
      "430\n",
      "None\n",
      "0\n"
     ]
    }
   ],
   "source": [
    "inventory = {'apples': 430, 'bananas': 312, 'oranges': 525, 'pears': 217}\n",
    "\n",
    "print(inventory.get(\"apples\"))\n",
    "print(inventory.get(\"cherries\"))\n",
    "\n",
    "print(inventory.get(\"cherries\",0))"
   ]
  },
  {
   "cell_type": "code",
   "execution_count": null,
   "id": "3e947a7a",
   "metadata": {},
   "outputs": [],
   "source": []
  }
 ],
 "metadata": {
  "kernelspec": {
   "display_name": "Python 3",
   "language": "python",
   "name": "python3"
  },
  "language_info": {
   "codemirror_mode": {
    "name": "ipython",
    "version": 3
   },
   "file_extension": ".py",
   "mimetype": "text/x-python",
   "name": "python",
   "nbconvert_exporter": "python",
   "pygments_lexer": "ipython3",
   "version": "3.9.1"
  }
 },
 "nbformat": 4,
 "nbformat_minor": 5
}
