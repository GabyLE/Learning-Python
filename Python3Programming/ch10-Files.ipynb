{
 "cells": [
  {
   "cell_type": "markdown",
   "metadata": {},
   "source": [
    "# Files"
   ]
  },
  {
   "cell_type": "markdown",
   "metadata": {},
   "source": [
    "## Alternative File Reading Methods"
   ]
  },
  {
   "cell_type": "markdown",
   "metadata": {},
   "source": [
    "Using the file <code>school_prompt2.txt</code>, find the number of characters in the file and assing tha value to the variable <code>num_char</code>"
   ]
  },
  {
   "cell_type": "code",
   "execution_count": 11,
   "metadata": {},
   "outputs": [
    {
     "name": "stdout",
     "output_type": "stream",
     "text": [
      "The file 'school_prompt2.txt' has 536 characters\n"
     ]
    }
   ],
   "source": [
    "file = open(\"Files/school_prompt2.txt\")\n",
    "text = file.read()\n",
    "num_char = 0\n",
    "for i in range(len(text)):\n",
    "    num_char += 1\n",
    "print(\"The file 'school_prompt2.txt' has\", num_char, \"characters\")\n",
    "file.close()"
   ]
  },
  {
   "cell_type": "markdown",
   "metadata": {},
   "source": [
    "Find the number of lines in the file, <code>travel_plans2.txt</code>, and assign it to the variable <code>num_lines</code>"
   ]
  },
  {
   "cell_type": "code",
   "execution_count": 12,
   "metadata": {},
   "outputs": [
    {
     "name": "stdout",
     "output_type": "stream",
     "text": [
      "The file travel_plans2.txt has 11 lines.\n"
     ]
    }
   ],
   "source": [
    "with open(\"Files/travel_plans2.txt\") as objFile:\n",
    "    content = objFile.readlines()\n",
    "\n",
    "num_lines = len(content)\n",
    "print(\"The file travel_plans2.txt has\", num_lines, \"lines.\")"
   ]
  },
  {
   "cell_type": "code",
   "execution_count": 13,
   "metadata": {},
   "outputs": [
    {
     "name": "stdout",
     "output_type": "stream",
     "text": [
      "The file travel_plans2.txt has 11 lines.\n"
     ]
    }
   ],
   "source": [
    "objFile = open(\"Files/travel_plans2.txt\")\n",
    "num_lines = 0\n",
    "for _ in objFile:\n",
    "    num_lines += 1\n",
    "\n",
    "print(\"The file travel_plans2.txt has\",num_lines,\"lines.\")\n",
    "objFile.close()\n"
   ]
  },
  {
   "cell_type": "markdown",
   "metadata": {},
   "source": [
    "Create a strind called <code>first_forty</code> that is comprised of the first 40 characters of <code>emotion_words2.txt</code>."
   ]
  },
  {
   "cell_type": "code",
   "execution_count": 14,
   "metadata": {},
   "outputs": [
    {
     "name": "stdout",
     "output_type": "stream",
     "text": [
      "The first 40 lines of the file emotion_words.txt are:\n",
      " Sad upset blue down melancholy somber bi\n"
     ]
    }
   ],
   "source": [
    "with open(\"Files/emotion_words2.txt\") as objFile:\n",
    "    first_forty = objFile.read(40)\n",
    "\n",
    "print(\"The first 40 lines of the file emotion_words.txt are:\\n\", first_forty)"
   ]
  },
  {
   "cell_type": "markdown",
   "metadata": {},
   "source": [
    "## Iterating over lines in a file"
   ]
  },
  {
   "cell_type": "code",
   "execution_count": 15,
   "metadata": {},
   "outputs": [
    {
     "name": "stdout",
     "output_type": "stream",
     "text": [
      "Name IS FROM Team AND IS ON THE ROSTER FOR Event\n",
      "A Dijiang IS FROM China AND IS ON THE ROSTER FOR Basketball\n",
      "A Lamusi IS FROM China AND IS ON THE ROSTER FOR Judo\n",
      "Gunnar Nielsen Aaby IS FROM Denmark AND IS ON THE ROSTER FOR Football\n",
      "Edgar Lindenau Aabye IS FROM Denmark/Sweden AND IS ON THE ROSTER FOR Tug-Of-War\n",
      "Christine Jacoba Aaftink IS FROM Netherlands AND IS ON THE ROSTER FOR Speed Skating\n",
      "Christine Jacoba Aaftink IS FROM Netherlands AND IS ON THE ROSTER FOR Speed Skating\n",
      "Christine Jacoba Aaftink IS FROM Netherlands AND IS ON THE ROSTER FOR Speed Skating\n",
      "Christine Jacoba Aaftink IS FROM Netherlands AND IS ON THE ROSTER FOR Speed Skating\n",
      "Christine Jacoba Aaftink IS FROM Netherlands AND IS ON THE ROSTER FOR Speed Skating\n",
      "Christine Jacoba Aaftink IS FROM Netherlands AND IS ON THE ROSTER FOR Speed Skating\n",
      "Per Knut Aaland IS FROM United States AND IS ON THE ROSTER FOR Cross Country Skiing\n",
      "Per Knut Aaland IS FROM United States AND IS ON THE ROSTER FOR Cross Country Skiing\n",
      "Per Knut Aaland IS FROM United States AND IS ON THE ROSTER FOR Cross Country Skiing\n",
      "Per Knut Aaland IS FROM United States AND IS ON THE ROSTER FOR Cross Country Skiing\n",
      "Per Knut Aaland IS FROM United States AND IS ON THE ROSTER FOR Cross Country Skiing\n",
      "Per Knut Aaland IS FROM United States AND IS ON THE ROSTER FOR Cross Country Skiing\n",
      "Per Knut Aaland IS FROM United States AND IS ON THE ROSTER FOR Cross Country Skiing\n",
      "Per Knut Aaland IS FROM United States AND IS ON THE ROSTER FOR Cross Country Skiing\n",
      "John Aalberg IS FROM United States AND IS ON THE ROSTER FOR Cross Country Skiing\n",
      "John Aalberg IS FROM United States AND IS ON THE ROSTER FOR Cross Country Skiing\n",
      "John Aalberg IS FROM United States AND IS ON THE ROSTER FOR Cross Country Skiing\n",
      "John Aalberg IS FROM United States AND IS ON THE ROSTER FOR Cross Country Skiing\n",
      "John Aalberg IS FROM United States AND IS ON THE ROSTER FOR Cross Country Skiing\n",
      "John Aalberg IS FROM United States AND IS ON THE ROSTER FOR Cross Country Skiing\n",
      "John Aalberg IS FROM United States AND IS ON THE ROSTER FOR Cross Country Skiing\n",
      "John Aalberg IS FROM United States AND IS ON THE ROSTER FOR Cross Country Skiing\n",
      "\"Cornelia \"\"Cor\"\" Aalten (-Strannood)\" IS FROM Netherlands AND IS ON THE ROSTER FOR Athletics\n",
      "\"Cornelia \"\"Cor\"\" Aalten (-Strannood)\" IS FROM Netherlands AND IS ON THE ROSTER FOR Athletics\n",
      "Antti Sami Aalto IS FROM Finland AND IS ON THE ROSTER FOR Ice Hockey\n",
      "\"Einar Ferdinand \"\"Einari\"\" Aalto\" IS FROM Finland AND IS ON THE ROSTER FOR Swimming\n",
      "Jorma Ilmari Aalto IS FROM Finland AND IS ON THE ROSTER FOR Cross Country Skiing\n",
      "Jyri Tapani Aalto IS FROM Finland AND IS ON THE ROSTER FOR Badminton\n",
      "Minna Maarit Aalto IS FROM Finland AND IS ON THE ROSTER FOR Sailing\n",
      "Minna Maarit Aalto IS FROM Finland AND IS ON THE ROSTER FOR Sailing\n",
      "Pirjo Hannele Aalto (Mattila-) IS FROM Finland AND IS ON THE ROSTER FOR Biathlon\n",
      "Arvo Ossian Aaltonen IS FROM Finland AND IS ON THE ROSTER FOR Swimming\n",
      "Arvo Ossian Aaltonen IS FROM Finland AND IS ON THE ROSTER FOR Swimming\n",
      "Arvo Ossian Aaltonen IS FROM Finland AND IS ON THE ROSTER FOR Swimming\n",
      "Arvo Ossian Aaltonen IS FROM Finland AND IS ON THE ROSTER FOR Swimming\n",
      "Arvo Ossian Aaltonen IS FROM Finland AND IS ON THE ROSTER FOR Swimming\n",
      "Juhamatti Tapio Aaltonen IS FROM Finland AND IS ON THE ROSTER FOR Ice Hockey\n",
      "Paavo Johannes Aaltonen IS FROM Finland AND IS ON THE ROSTER FOR Gymnastics\n",
      "Paavo Johannes Aaltonen IS FROM Finland AND IS ON THE ROSTER FOR Gymnastics\n",
      "Paavo Johannes Aaltonen IS FROM Finland AND IS ON THE ROSTER FOR Gymnastics\n",
      "Paavo Johannes Aaltonen IS FROM Finland AND IS ON THE ROSTER FOR Gymnastics\n",
      "Paavo Johannes Aaltonen IS FROM Finland AND IS ON THE ROSTER FOR Gymnastics\n",
      "Paavo Johannes Aaltonen IS FROM Finland AND IS ON THE ROSTER FOR Gymnastics\n",
      "Paavo Johannes Aaltonen IS FROM Finland AND IS ON THE ROSTER FOR Gymnastics\n",
      "Paavo Johannes Aaltonen IS FROM Finland AND IS ON THE ROSTER FOR Gymnastics\n",
      "Paavo Johannes Aaltonen IS FROM Finland AND IS ON THE ROSTER FOR Gymnastics\n",
      "Paavo Johannes Aaltonen IS FROM Finland AND IS ON THE ROSTER FOR Gymnastics\n",
      "Paavo Johannes Aaltonen IS FROM Finland AND IS ON THE ROSTER FOR Gymnastics\n",
      "Paavo Johannes Aaltonen IS FROM Finland AND IS ON THE ROSTER FOR Gymnastics\n",
      "Paavo Johannes Aaltonen IS FROM Finland AND IS ON THE ROSTER FOR Gymnastics\n",
      "Paavo Johannes Aaltonen IS FROM Finland AND IS ON THE ROSTER FOR Gymnastics\n",
      "Paavo Johannes Aaltonen IS FROM Finland AND IS ON THE ROSTER FOR Gymnastics\n",
      "Paavo Johannes Aaltonen IS FROM Finland AND IS ON THE ROSTER FOR Gymnastics\n",
      "Timo Antero Aaltonen IS FROM Finland AND IS ON THE ROSTER FOR Athletics\n",
      "Win Valdemar Aaltonen IS FROM Finland AND IS ON THE ROSTER FOR Art Competitions\n"
     ]
    }
   ],
   "source": [
    "olympicsFile = open(\"Files/olympics.txt\", \"r\")\n",
    "\n",
    "for aline in olympicsFile.readlines():\n",
    "    values = aline.split(\",\") # break each line into a list\n",
    "    print(values[0], \"IS FROM\", values[3], \"AND IS ON THE ROSTER FOR\", values[4])\n",
    "    \n",
    "olympicsFile.close()"
   ]
  },
  {
   "cell_type": "markdown",
   "metadata": {},
   "source": [
    "Alternative:"
   ]
  },
  {
   "cell_type": "code",
   "execution_count": 16,
   "metadata": {},
   "outputs": [
    {
     "name": "stdout",
     "output_type": "stream",
     "text": [
      "Name IS FROM Team AND IS ON THE ROSTER FOR Event\n",
      "A Dijiang IS FROM China AND IS ON THE ROSTER FOR Basketball\n",
      "A Lamusi IS FROM China AND IS ON THE ROSTER FOR Judo\n",
      "Gunnar Nielsen Aaby IS FROM Denmark AND IS ON THE ROSTER FOR Football\n",
      "Edgar Lindenau Aabye IS FROM Denmark/Sweden AND IS ON THE ROSTER FOR Tug-Of-War\n",
      "Christine Jacoba Aaftink IS FROM Netherlands AND IS ON THE ROSTER FOR Speed Skating\n",
      "Christine Jacoba Aaftink IS FROM Netherlands AND IS ON THE ROSTER FOR Speed Skating\n",
      "Christine Jacoba Aaftink IS FROM Netherlands AND IS ON THE ROSTER FOR Speed Skating\n",
      "Christine Jacoba Aaftink IS FROM Netherlands AND IS ON THE ROSTER FOR Speed Skating\n",
      "Christine Jacoba Aaftink IS FROM Netherlands AND IS ON THE ROSTER FOR Speed Skating\n",
      "Christine Jacoba Aaftink IS FROM Netherlands AND IS ON THE ROSTER FOR Speed Skating\n",
      "Per Knut Aaland IS FROM United States AND IS ON THE ROSTER FOR Cross Country Skiing\n",
      "Per Knut Aaland IS FROM United States AND IS ON THE ROSTER FOR Cross Country Skiing\n",
      "Per Knut Aaland IS FROM United States AND IS ON THE ROSTER FOR Cross Country Skiing\n",
      "Per Knut Aaland IS FROM United States AND IS ON THE ROSTER FOR Cross Country Skiing\n",
      "Per Knut Aaland IS FROM United States AND IS ON THE ROSTER FOR Cross Country Skiing\n",
      "Per Knut Aaland IS FROM United States AND IS ON THE ROSTER FOR Cross Country Skiing\n",
      "Per Knut Aaland IS FROM United States AND IS ON THE ROSTER FOR Cross Country Skiing\n",
      "Per Knut Aaland IS FROM United States AND IS ON THE ROSTER FOR Cross Country Skiing\n",
      "John Aalberg IS FROM United States AND IS ON THE ROSTER FOR Cross Country Skiing\n",
      "John Aalberg IS FROM United States AND IS ON THE ROSTER FOR Cross Country Skiing\n",
      "John Aalberg IS FROM United States AND IS ON THE ROSTER FOR Cross Country Skiing\n",
      "John Aalberg IS FROM United States AND IS ON THE ROSTER FOR Cross Country Skiing\n",
      "John Aalberg IS FROM United States AND IS ON THE ROSTER FOR Cross Country Skiing\n",
      "John Aalberg IS FROM United States AND IS ON THE ROSTER FOR Cross Country Skiing\n",
      "John Aalberg IS FROM United States AND IS ON THE ROSTER FOR Cross Country Skiing\n",
      "John Aalberg IS FROM United States AND IS ON THE ROSTER FOR Cross Country Skiing\n",
      "\"Cornelia \"\"Cor\"\" Aalten (-Strannood)\" IS FROM Netherlands AND IS ON THE ROSTER FOR Athletics\n",
      "\"Cornelia \"\"Cor\"\" Aalten (-Strannood)\" IS FROM Netherlands AND IS ON THE ROSTER FOR Athletics\n",
      "Antti Sami Aalto IS FROM Finland AND IS ON THE ROSTER FOR Ice Hockey\n",
      "\"Einar Ferdinand \"\"Einari\"\" Aalto\" IS FROM Finland AND IS ON THE ROSTER FOR Swimming\n",
      "Jorma Ilmari Aalto IS FROM Finland AND IS ON THE ROSTER FOR Cross Country Skiing\n",
      "Jyri Tapani Aalto IS FROM Finland AND IS ON THE ROSTER FOR Badminton\n",
      "Minna Maarit Aalto IS FROM Finland AND IS ON THE ROSTER FOR Sailing\n",
      "Minna Maarit Aalto IS FROM Finland AND IS ON THE ROSTER FOR Sailing\n",
      "Pirjo Hannele Aalto (Mattila-) IS FROM Finland AND IS ON THE ROSTER FOR Biathlon\n",
      "Arvo Ossian Aaltonen IS FROM Finland AND IS ON THE ROSTER FOR Swimming\n",
      "Arvo Ossian Aaltonen IS FROM Finland AND IS ON THE ROSTER FOR Swimming\n",
      "Arvo Ossian Aaltonen IS FROM Finland AND IS ON THE ROSTER FOR Swimming\n",
      "Arvo Ossian Aaltonen IS FROM Finland AND IS ON THE ROSTER FOR Swimming\n",
      "Arvo Ossian Aaltonen IS FROM Finland AND IS ON THE ROSTER FOR Swimming\n",
      "Juhamatti Tapio Aaltonen IS FROM Finland AND IS ON THE ROSTER FOR Ice Hockey\n",
      "Paavo Johannes Aaltonen IS FROM Finland AND IS ON THE ROSTER FOR Gymnastics\n",
      "Paavo Johannes Aaltonen IS FROM Finland AND IS ON THE ROSTER FOR Gymnastics\n",
      "Paavo Johannes Aaltonen IS FROM Finland AND IS ON THE ROSTER FOR Gymnastics\n",
      "Paavo Johannes Aaltonen IS FROM Finland AND IS ON THE ROSTER FOR Gymnastics\n",
      "Paavo Johannes Aaltonen IS FROM Finland AND IS ON THE ROSTER FOR Gymnastics\n",
      "Paavo Johannes Aaltonen IS FROM Finland AND IS ON THE ROSTER FOR Gymnastics\n",
      "Paavo Johannes Aaltonen IS FROM Finland AND IS ON THE ROSTER FOR Gymnastics\n",
      "Paavo Johannes Aaltonen IS FROM Finland AND IS ON THE ROSTER FOR Gymnastics\n",
      "Paavo Johannes Aaltonen IS FROM Finland AND IS ON THE ROSTER FOR Gymnastics\n",
      "Paavo Johannes Aaltonen IS FROM Finland AND IS ON THE ROSTER FOR Gymnastics\n",
      "Paavo Johannes Aaltonen IS FROM Finland AND IS ON THE ROSTER FOR Gymnastics\n",
      "Paavo Johannes Aaltonen IS FROM Finland AND IS ON THE ROSTER FOR Gymnastics\n",
      "Paavo Johannes Aaltonen IS FROM Finland AND IS ON THE ROSTER FOR Gymnastics\n",
      "Paavo Johannes Aaltonen IS FROM Finland AND IS ON THE ROSTER FOR Gymnastics\n",
      "Paavo Johannes Aaltonen IS FROM Finland AND IS ON THE ROSTER FOR Gymnastics\n",
      "Paavo Johannes Aaltonen IS FROM Finland AND IS ON THE ROSTER FOR Gymnastics\n",
      "Timo Antero Aaltonen IS FROM Finland AND IS ON THE ROSTER FOR Athletics\n",
      "Win Valdemar Aaltonen IS FROM Finland AND IS ON THE ROSTER FOR Art Competitions\n"
     ]
    }
   ],
   "source": [
    "with open(\"Files/olympics.txt\", \"r\") as objFile:\n",
    "    for aline in objFile:\n",
    "        values = aline.split(\",\")\n",
    "        print(values[0], \"IS FROM\", values[3], \"AND IS ON THE ROSTER FOR\", values[4])"
   ]
  },
  {
   "cell_type": "markdown",
   "metadata": {},
   "source": [
    "Write code to find out how many lines are in the file <code>emotion_words2.txt</code>. Save this value to the variable <code>num_lines</code>. Do not use the len method."
   ]
  },
  {
   "cell_type": "code",
   "execution_count": 17,
   "metadata": {},
   "outputs": [
    {
     "name": "stdout",
     "output_type": "stream",
     "text": [
      "The file emotion_words2.txt has 7 lines.\n"
     ]
    }
   ],
   "source": [
    "with open(\"Files/emotion_words2.txt\", \"r\") as objFile:\n",
    "    num_lines = 0\n",
    "    for _ in objFile:\n",
    "        num_lines += 1\n",
    "print(\"The file emotion_words2.txt has\",num_lines, \"lines.\")"
   ]
  },
  {
   "cell_type": "markdown",
   "metadata": {},
   "source": [
    "## Recipe for Reading and Processing a File\n",
    "1. Open the file using <code>with</code> and <code>open</code>.\n",
    "2. Use <code>.readlines()</code> to het a list of the lines of text in the file.\n",
    "3. Use a <code>for</code> loop to iterate through the strings in the list, each being one line from the file. On each iteration, process tha line of text.\n",
    "4. When you ar done extracting data from the file, continue writing your code outside of the indentation. Using `with` will automatically close the file once th program exits the with block."
   ]
  },
  {
   "cell_type": "markdown",
   "metadata": {},
   "source": [
    "```python\n",
    "fname = \"yourfile.txt\"\n",
    "with open(fname, 'r') as fileref:         # step 1\n",
    "    lines = fileref.readlines()           # step 2\n",
    "    for lin in lines:                     # step 3\n",
    "        #some code that references the variable lin\n",
    "#some other code not relying on fileref   # step 4\n",
    "```"
   ]
  }
 ],
 "metadata": {
  "kernelspec": {
   "display_name": "Python 3",
   "language": "python",
   "name": "python3"
  },
  "language_info": {
   "codemirror_mode": {
    "name": "ipython",
    "version": 3
   },
   "file_extension": ".py",
   "mimetype": "text/x-python",
   "name": "python",
   "nbconvert_exporter": "python",
   "pygments_lexer": "ipython3",
   "version": "3.9.5"
  },
  "metadata": {
   "interpreter": {
    "hash": "2031f9519a7c89e6e764d298a7cc2bf310f53fcc368717afac921416e61cc7f7"
   }
  }
 },
 "nbformat": 4,
 "nbformat_minor": 2
}
