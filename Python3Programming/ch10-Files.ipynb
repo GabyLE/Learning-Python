{
 "cells": [
  {
   "cell_type": "markdown",
   "metadata": {},
   "source": [
    "# Files"
   ]
  },
  {
   "cell_type": "markdown",
   "metadata": {},
   "source": [
    "Using the file <code>school_prompt2.txt</code>, find the number of characters in the file and assing tha value to the variable <code>num_char</code>"
   ]
  },
  {
   "cell_type": "code",
   "execution_count": 2,
   "metadata": {},
   "outputs": [
    {
     "name": "stdout",
     "output_type": "stream",
     "text": [
      "The file 'school_prompt2.txt' has 536 characters\n"
     ]
    }
   ],
   "source": [
    "file = open(\"school_prompt2.txt\")\n",
    "text = file.read()\n",
    "num_char = 0\n",
    "for i in range(len(text)):\n",
    "    num_char += 1\n",
    "print(\"The file 'school_prompt2.txt' has\", num_char, \"characters\")\n",
    "file.close()"
   ]
  },
  {
   "cell_type": "markdown",
   "metadata": {},
   "source": [
    "Iterating over lines in a file"
   ]
  },
  {
   "cell_type": "code",
   "execution_count": 2,
   "metadata": {},
   "outputs": [
    {
     "output_type": "stream",
     "name": "stdout",
     "text": [
      "Name IS FROM Team AND IS ON THE ROSTER FOR Event\nA Dijiang IS FROM China AND IS ON THE ROSTER FOR Basketball\nA Lamusi IS FROM China AND IS ON THE ROSTER FOR Judo\nGunnar Nielsen Aaby IS FROM Denmark AND IS ON THE ROSTER FOR Football\nEdgar Lindenau Aabye IS FROM Denmark/Sweden AND IS ON THE ROSTER FOR Tug-Of-War\nChristine Jacoba Aaftink IS FROM Netherlands AND IS ON THE ROSTER FOR Speed Skating\nChristine Jacoba Aaftink IS FROM Netherlands AND IS ON THE ROSTER FOR Speed Skating\nChristine Jacoba Aaftink IS FROM Netherlands AND IS ON THE ROSTER FOR Speed Skating\nChristine Jacoba Aaftink IS FROM Netherlands AND IS ON THE ROSTER FOR Speed Skating\nChristine Jacoba Aaftink IS FROM Netherlands AND IS ON THE ROSTER FOR Speed Skating\nChristine Jacoba Aaftink IS FROM Netherlands AND IS ON THE ROSTER FOR Speed Skating\nPer Knut Aaland IS FROM United States AND IS ON THE ROSTER FOR Cross Country Skiing\nPer Knut Aaland IS FROM United States AND IS ON THE ROSTER FOR Cross Country Skiing\nPer Knut Aaland IS FROM United States AND IS ON THE ROSTER FOR Cross Country Skiing\nPer Knut Aaland IS FROM United States AND IS ON THE ROSTER FOR Cross Country Skiing\nPer Knut Aaland IS FROM United States AND IS ON THE ROSTER FOR Cross Country Skiing\nPer Knut Aaland IS FROM United States AND IS ON THE ROSTER FOR Cross Country Skiing\nPer Knut Aaland IS FROM United States AND IS ON THE ROSTER FOR Cross Country Skiing\nPer Knut Aaland IS FROM United States AND IS ON THE ROSTER FOR Cross Country Skiing\nJohn Aalberg IS FROM United States AND IS ON THE ROSTER FOR Cross Country Skiing\nJohn Aalberg IS FROM United States AND IS ON THE ROSTER FOR Cross Country Skiing\nJohn Aalberg IS FROM United States AND IS ON THE ROSTER FOR Cross Country Skiing\nJohn Aalberg IS FROM United States AND IS ON THE ROSTER FOR Cross Country Skiing\nJohn Aalberg IS FROM United States AND IS ON THE ROSTER FOR Cross Country Skiing\nJohn Aalberg IS FROM United States AND IS ON THE ROSTER FOR Cross Country Skiing\nJohn Aalberg IS FROM United States AND IS ON THE ROSTER FOR Cross Country Skiing\nJohn Aalberg IS FROM United States AND IS ON THE ROSTER FOR Cross Country Skiing\n\"Cornelia \"\"Cor\"\" Aalten (-Strannood)\" IS FROM Netherlands AND IS ON THE ROSTER FOR Athletics\n\"Cornelia \"\"Cor\"\" Aalten (-Strannood)\" IS FROM Netherlands AND IS ON THE ROSTER FOR Athletics\nAntti Sami Aalto IS FROM Finland AND IS ON THE ROSTER FOR Ice Hockey\n\"Einar Ferdinand \"\"Einari\"\" Aalto\" IS FROM Finland AND IS ON THE ROSTER FOR Swimming\nJorma Ilmari Aalto IS FROM Finland AND IS ON THE ROSTER FOR Cross Country Skiing\nJyri Tapani Aalto IS FROM Finland AND IS ON THE ROSTER FOR Badminton\nMinna Maarit Aalto IS FROM Finland AND IS ON THE ROSTER FOR Sailing\nMinna Maarit Aalto IS FROM Finland AND IS ON THE ROSTER FOR Sailing\nPirjo Hannele Aalto (Mattila-) IS FROM Finland AND IS ON THE ROSTER FOR Biathlon\nArvo Ossian Aaltonen IS FROM Finland AND IS ON THE ROSTER FOR Swimming\nArvo Ossian Aaltonen IS FROM Finland AND IS ON THE ROSTER FOR Swimming\nArvo Ossian Aaltonen IS FROM Finland AND IS ON THE ROSTER FOR Swimming\nArvo Ossian Aaltonen IS FROM Finland AND IS ON THE ROSTER FOR Swimming\nArvo Ossian Aaltonen IS FROM Finland AND IS ON THE ROSTER FOR Swimming\nJuhamatti Tapio Aaltonen IS FROM Finland AND IS ON THE ROSTER FOR Ice Hockey\nPaavo Johannes Aaltonen IS FROM Finland AND IS ON THE ROSTER FOR Gymnastics\nPaavo Johannes Aaltonen IS FROM Finland AND IS ON THE ROSTER FOR Gymnastics\nPaavo Johannes Aaltonen IS FROM Finland AND IS ON THE ROSTER FOR Gymnastics\nPaavo Johannes Aaltonen IS FROM Finland AND IS ON THE ROSTER FOR Gymnastics\nPaavo Johannes Aaltonen IS FROM Finland AND IS ON THE ROSTER FOR Gymnastics\nPaavo Johannes Aaltonen IS FROM Finland AND IS ON THE ROSTER FOR Gymnastics\nPaavo Johannes Aaltonen IS FROM Finland AND IS ON THE ROSTER FOR Gymnastics\nPaavo Johannes Aaltonen IS FROM Finland AND IS ON THE ROSTER FOR Gymnastics\nPaavo Johannes Aaltonen IS FROM Finland AND IS ON THE ROSTER FOR Gymnastics\nPaavo Johannes Aaltonen IS FROM Finland AND IS ON THE ROSTER FOR Gymnastics\nPaavo Johannes Aaltonen IS FROM Finland AND IS ON THE ROSTER FOR Gymnastics\nPaavo Johannes Aaltonen IS FROM Finland AND IS ON THE ROSTER FOR Gymnastics\nPaavo Johannes Aaltonen IS FROM Finland AND IS ON THE ROSTER FOR Gymnastics\nPaavo Johannes Aaltonen IS FROM Finland AND IS ON THE ROSTER FOR Gymnastics\nPaavo Johannes Aaltonen IS FROM Finland AND IS ON THE ROSTER FOR Gymnastics\nPaavo Johannes Aaltonen IS FROM Finland AND IS ON THE ROSTER FOR Gymnastics\nTimo Antero Aaltonen IS FROM Finland AND IS ON THE ROSTER FOR Athletics\nWin Valdemar Aaltonen IS FROM Finland AND IS ON THE ROSTER FOR Art Competitions\n"
     ]
    }
   ],
   "source": [
    "olympicsFile = open(\"olympics.txt\", \"r\")\n",
    "\n",
    "for aline in olympicsFile.readlines():\n",
    "    values = aline.split(\",\")\n",
    "    print(values[0], \"IS FROM\", values[3], \"AND IS ON THE ROSTER FOR\", values[4])\n",
    "    \n",
    "olympicsFile.close()"
   ]
  },
  {
   "cell_type": "code",
   "execution_count": null,
   "metadata": {},
   "outputs": [],
   "source": []
  }
 ],
 "metadata": {
  "kernelspec": {
   "name": "python395jvsc74a57bd02031f9519a7c89e6e764d298a7cc2bf310f53fcc368717afac921416e61cc7f7",
   "display_name": "Python 3.9.5 64-bit"
  },
  "language_info": {
   "codemirror_mode": {
    "name": "ipython",
    "version": 3
   },
   "file_extension": ".py",
   "mimetype": "text/x-python",
   "name": "python",
   "nbconvert_exporter": "python",
   "pygments_lexer": "ipython3",
   "version": "3.9.5"
  },
  "metadata": {
   "interpreter": {
    "hash": "2031f9519a7c89e6e764d298a7cc2bf310f53fcc368717afac921416e61cc7f7"
   }
  }
 },
 "nbformat": 4,
 "nbformat_minor": 2
}