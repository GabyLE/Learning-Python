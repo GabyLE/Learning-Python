{
 "cells": [
  {
   "cell_type": "markdown",
   "id": "03b2831c",
   "metadata": {},
   "source": [
    "# Dictionaries"
   ]
  },
  {
   "cell_type": "markdown",
   "id": "d7c40ee8",
   "metadata": {},
   "source": [
    "Dictionaries are a different kind of collection. They are Python’s built-in **mapping** type. A map is an unordered, associative collection. The association, or mapping, is from a **key**, which can be of any immutable type, to a **value**, which can be any Python data object."
   ]
  },
  {
   "cell_type": "code",
   "execution_count": 1,
   "id": "435b2ee9",
   "metadata": {},
   "outputs": [
    {
     "name": "stdout",
     "output_type": "stream",
     "text": [
      "{'one': 'uno', 'two': 'dos', 'three': 'tres'}\n"
     ]
    }
   ],
   "source": [
    "# creating and filling a dictionary\n",
    "eng2sp = {}\n",
    "eng2sp['one'] = 'uno'\n",
    "eng2sp['two'] = 'dos'\n",
    "eng2sp['three'] = 'tres'\n",
    "print(eng2sp)"
   ]
  },
  {
   "cell_type": "code",
   "execution_count": 2,
   "id": "b899ea2a",
   "metadata": {},
   "outputs": [
    {
     "name": "stdout",
     "output_type": "stream",
     "text": [
      "{'one': 'uno', 'two': 'dos', 'three': 'tres'}\n"
     ]
    }
   ],
   "source": [
    "# alternative\n",
    "eng2sp = {'one': 'uno', 'two': 'dos', 'three': 'tres'}\n",
    "print(eng2sp)"
   ]
  },
  {
   "cell_type": "code",
   "execution_count": 4,
   "id": "82850269",
   "metadata": {},
   "outputs": [
    {
     "name": "stdout",
     "output_type": "stream",
     "text": [
      "{'one': 'uno', 'two': 'dos', 'three': 'tres'}\n"
     ]
    }
   ],
   "source": [
    "# alternative 2\n",
    "eng = ['one', 'two', 'three']\n",
    "sp = ['uno', 'dos', 'tres']\n",
    "eng2sp = dict(zip(eng,sp))\n",
    "print(eng2sp)"
   ]
  },
  {
   "cell_type": "markdown",
   "id": "04789cd3",
   "metadata": {},
   "source": [
    "The values in a dictionary are accessed with keys, not with indices, so there is no need to care about ordering."
   ]
  },
  {
   "cell_type": "code",
   "execution_count": 5,
   "id": "18930240",
   "metadata": {},
   "outputs": [
    {
     "name": "stdout",
     "output_type": "stream",
     "text": [
      "dos\n",
      "uno\n"
     ]
    }
   ],
   "source": [
    "value = eng2sp['two']\n",
    "print(value)\n",
    "print(eng2sp['one'])"
   ]
  },
  {
   "cell_type": "markdown",
   "id": "096ca7f9",
   "metadata": {},
   "source": [
    "## Dictionary operations"
   ]
  },
  {
   "cell_type": "markdown",
   "id": "8b3fc363",
   "metadata": {},
   "source": [
    "The `del` statement removes a key-value pair from a dictionary."
   ]
  },
  {
   "cell_type": "code",
   "execution_count": 6,
   "id": "06bcac07",
   "metadata": {},
   "outputs": [
    {
     "name": "stdout",
     "output_type": "stream",
     "text": [
      "{'apples': 430, 'bananas': 312, 'oranges': 525}\n"
     ]
    }
   ],
   "source": [
    "inventory = {'apples': 430, 'bananas': 312, 'oranges': 525, 'pears': 217}\n",
    "del inventory['pears']\n",
    "print(inventory)"
   ]
  },
  {
   "cell_type": "markdown",
   "id": "632b3361",
   "metadata": {},
   "source": [
    "<div class=\"alert alert-block alert-info\">\n",
    "Dictionaries are mutable, as the delete operation above indicates. As we’ve seen before with lists, this means that the dictionary can be modified by referencing an association on the left hand side of the assignment statement.</div>"
   ]
  },
  {
   "cell_type": "code",
   "execution_count": 7,
   "id": "e3daffd9",
   "metadata": {},
   "outputs": [
    {
     "name": "stdout",
     "output_type": "stream",
     "text": [
      "{'apples': 0, 'bananas': 312, 'oranges': 525}\n"
     ]
    }
   ],
   "source": [
    "inventory['apples'] = 0\n",
    "print(inventory)"
   ]
  },
  {
   "cell_type": "markdown",
   "id": "03c4d566",
   "metadata": {},
   "source": [
    "The `len` function also works on dictionaries. It returns the number of key-value pairs."
   ]
  },
  {
   "cell_type": "code",
   "execution_count": 8,
   "id": "78ca8c50",
   "metadata": {},
   "outputs": [
    {
     "name": "stdout",
     "output_type": "stream",
     "text": [
      "3\n"
     ]
    }
   ],
   "source": [
    "numItems = len(inventory)\n",
    "print(numItems)"
   ]
  },
  {
   "cell_type": "markdown",
   "id": "3ffbc72c",
   "metadata": {},
   "source": [
    "## Dictionary methods"
   ]
  },
  {
   "cell_type": "markdown",
   "id": "587ebdd2",
   "metadata": {},
   "source": [
    "|Method|Parameters|Description|\n",
    "|:------:|:------:|:------:|\n",
    "|keys|none|Returns a view of the keys in the dictionary|\n",
    "|values|none|Returns a view of the values in the dictionary|\n",
    "|items|none|Returns a view of the key-value pairs in the dictionary|\n",
    "|get|key|Returns the value associated with key; None otherwise|\n",
    "|get|key,alt|Returns the value associated with key; alt otherwise|"
   ]
  },
  {
   "cell_type": "code",
   "execution_count": 9,
   "id": "eefd329a",
   "metadata": {},
   "outputs": [
    {
     "name": "stdout",
     "output_type": "stream",
     "text": [
      "Got key apples which maps to value 430\n",
      "Got key bananas which maps to value 312\n",
      "Got key oranges which maps to value 525\n",
      "Got key pears which maps to value 217\n",
      "['apples', 'bananas', 'oranges', 'pears']\n"
     ]
    }
   ],
   "source": [
    "inventory = {'apples': 430, 'bananas': 312, 'oranges': 525, 'pears': 217}\n",
    "\n",
    "for akey in inventory.keys():     # the order in which we get the keys is not defined\n",
    "    print(\"Got key\", akey, \"which maps to value\", inventory[akey])\n",
    "\n",
    "ks = list(inventory.keys())\n",
    "print(ks)"
   ]
  },
  {
   "cell_type": "markdown",
   "id": "67035b73",
   "metadata": {},
   "source": [
    "Iterating over a dictionary implicitly iterates over its keys."
   ]
  },
  {
   "cell_type": "code",
   "execution_count": 10,
   "id": "c9094783",
   "metadata": {},
   "outputs": [
    {
     "name": "stdout",
     "output_type": "stream",
     "text": [
      "Got key apples\n",
      "Got key bananas\n",
      "Got key oranges\n",
      "Got key pears\n"
     ]
    }
   ],
   "source": [
    "inventory = {'apples': 430, 'bananas': 312, 'oranges': 525, 'pears': 217}\n",
    "\n",
    "for k in inventory:\n",
    "    print(\"Got key\", k)"
   ]
  },
  {
   "cell_type": "markdown",
   "id": "d85458b4",
   "metadata": {},
   "source": [
    "The `values` and `items` methods are similar to `keys`. They return the objects which can be iterated over."
   ]
  },
  {
   "cell_type": "code",
   "execution_count": 11,
   "id": "bb7868c4",
   "metadata": {},
   "outputs": [
    {
     "name": "stdout",
     "output_type": "stream",
     "text": [
      "[430, 312, 525, 217]\n",
      "[('apples', 430), ('bananas', 312), ('oranges', 525), ('pears', 217)]\n"
     ]
    }
   ],
   "source": [
    "inventory = {'apples': 430, 'bananas': 312, 'oranges': 525, 'pears': 217}\n",
    "\n",
    "print(list(inventory.values()))\n",
    "print(list(inventory.items()))"
   ]
  },
  {
   "cell_type": "code",
   "execution_count": 12,
   "id": "c1ec4d97",
   "metadata": {},
   "outputs": [
    {
     "name": "stdout",
     "output_type": "stream",
     "text": [
      "Got value 430\n",
      "Got value 312\n",
      "Got value 525\n",
      "Got value 217\n"
     ]
    }
   ],
   "source": [
    "for value in list(inventory.values()):\n",
    "    print(\"Got value\", value)"
   ]
  },
  {
   "cell_type": "code",
   "execution_count": 13,
   "id": "859832b1",
   "metadata": {},
   "outputs": [
    {
     "name": "stdout",
     "output_type": "stream",
     "text": [
      "Got apples that maps to 430\n",
      "Got bananas that maps to 312\n",
      "Got oranges that maps to 525\n",
      "Got pears that maps to 217\n"
     ]
    }
   ],
   "source": [
    "for key,value in inventory.items():\n",
    "    print(\"Got\", key, \"that maps to\", value)"
   ]
  },
  {
   "cell_type": "markdown",
   "id": "1d439977",
   "metadata": {},
   "source": [
    "<div class=\"alert alert-block alert-info\">\n",
    "    Technically, <code>.keys()</code>, <code>.values()</code>, and <code>.items()</code> don’t return actual lists. They return objects that produce the items one at a time, rather than producing and storing all of them in advance as a list. Unless the dictionary has a whole lot of keys, this won’t make a difference for performance. In a native python interpreter, if you print out <code>type(inventory.keys())</code>, you will find that it is something other than an actual list. In a real python interpreter, you need to make the collection of keys into a real list before using <code>[0]</code> to index into it: <code>list(inventory.keys())[0]</code>.</div>"
   ]
  },
  {
   "cell_type": "code",
   "execution_count": 14,
   "id": "89f4eddb",
   "metadata": {},
   "outputs": [
    {
     "name": "stdout",
     "output_type": "stream",
     "text": [
      "<class 'dict_keys'>\n"
     ]
    }
   ],
   "source": [
    "print(type(inventory.keys()))"
   ]
  },
  {
   "cell_type": "code",
   "execution_count": 15,
   "id": "23caf344",
   "metadata": {},
   "outputs": [
    {
     "name": "stdout",
     "output_type": "stream",
     "text": [
      "<class 'list'>\n"
     ]
    }
   ],
   "source": [
    "print(type(list(inventory.keys())))"
   ]
  },
  {
   "cell_type": "markdown",
   "id": "9126931f",
   "metadata": {},
   "source": [
    "The `in` and `not in` operators can test if a key is in the dictionary."
   ]
  },
  {
   "cell_type": "code",
   "execution_count": 16,
   "id": "7b72fb96",
   "metadata": {},
   "outputs": [
    {
     "name": "stdout",
     "output_type": "stream",
     "text": [
      "True\n",
      "False\n",
      "312\n"
     ]
    }
   ],
   "source": [
    "inventory = {'apples': 430, 'bananas': 312, 'oranges': 525, 'pears': 217}\n",
    "print('apples' in inventory)\n",
    "print('cherries' in inventory)\n",
    "\n",
    "if 'bananas' in inventory:\n",
    "    print(inventory['bananas'])\n",
    "else:\n",
    "    print(\"We have no bananas\")"
   ]
  },
  {
   "cell_type": "markdown",
   "id": "3e930d2d",
   "metadata": {},
   "source": [
    "<div class=\"alert alert-block alert-warning\">\n",
    "A non-existent key in a dictionary causes a runtime error.</div>"
   ]
  },
  {
   "cell_type": "markdown",
   "id": "34411232",
   "metadata": {},
   "source": [
    "The `get` method allows us to access the value associated with a key, similar to the `[ ]` operator. The important difference is that `get` will not cause a runtime error if the key is not present. It will instead return None. There exists a variation of `get` that allows a second parameter that serves as an alternative return value in the case where the key is not present. This can be seen in the final example below. In this case, since “cherries” is not a key, return 0 (instead of None)."
   ]
  },
  {
   "cell_type": "code",
   "execution_count": 17,
   "id": "3fc18524",
   "metadata": {},
   "outputs": [
    {
     "name": "stdout",
     "output_type": "stream",
     "text": [
      "430\n",
      "None\n",
      "0\n"
     ]
    }
   ],
   "source": [
    "inventory = {'apples': 430, 'bananas': 312, 'oranges': 525, 'pears': 217}\n",
    "\n",
    "print(inventory.get(\"apples\"))\n",
    "print(inventory.get(\"cherries\"))\n",
    "\n",
    "print(inventory.get(\"cherries\",0))"
   ]
  },
  {
   "cell_type": "markdown",
   "id": "0288a8d5",
   "metadata": {},
   "source": [
    "## Aliasing and copying"
   ]
  },
  {
   "cell_type": "markdown",
   "id": "d4a31afb",
   "metadata": {},
   "source": [
    "Because **dictionaries are mutable**, you need to be aware of aliasing (as with lists). Whenever two variables refer to the same dictionary object, changes to one affect the other."
   ]
  },
  {
   "cell_type": "code",
   "execution_count": 18,
   "id": "e7569c94",
   "metadata": {},
   "outputs": [
    {
     "name": "stdout",
     "output_type": "stream",
     "text": [
      "True\n",
      "left\n"
     ]
    }
   ],
   "source": [
    "opposites = {'up': 'down', 'right': 'wrong', 'true': 'false'}\n",
    "alias = opposites\n",
    "\n",
    "print(alias is opposites)\n",
    "\n",
    "alias['right'] = 'left'\n",
    "print(opposites['right'])"
   ]
  },
  {
   "cell_type": "markdown",
   "id": "f2ffb58e",
   "metadata": {},
   "source": [
    "If you want to modify a dictionary and keep a copy of the original, use the dictionary `copy` method. Since acopy is a copy of the dictionary, changes to it will not effect the original."
   ]
  },
  {
   "cell_type": "code",
   "execution_count": 20,
   "id": "e2ef1332",
   "metadata": {},
   "outputs": [
    {
     "name": "stdout",
     "output_type": "stream",
     "text": [
      "Dictionary opposites: {'up': 'down', 'right': 'left', 'true': 'false'}\n",
      "Dictionary acopy: {'up': 'down', 'right': 'wrong', 'true': 'false'}\n"
     ]
    }
   ],
   "source": [
    "acopy = opposites.copy()\n",
    "acopy['right'] = 'wrong'    # does not change opposites\n",
    "print(\"Dictionary opposites:\",opposites)\n",
    "print(\"Dictionary acopy:\",acopy)"
   ]
  },
  {
   "cell_type": "markdown",
   "id": "76a8832d",
   "metadata": {},
   "source": [
    "## Accumulating Multiple Results In a Dictionary"
   ]
  },
  {
   "cell_type": "markdown",
   "id": "f1ad708d",
   "metadata": {},
   "source": [
    "To find out how often the letter ‘t’ occurs on the text, we can accumulate the result in a count variable."
   ]
  },
  {
   "cell_type": "code",
   "execution_count": 22,
   "id": "69e759a3",
   "metadata": {},
   "outputs": [
    {
     "name": "stdout",
     "output_type": "stream",
     "text": [
      "t: 17584 occurrences\n"
     ]
    }
   ],
   "source": [
    "f = open('Files/scarlet.txt', 'r')\n",
    "txt = f.read()\n",
    "\n",
    "# now txt is one long string containing all the characters\n",
    "t_count = 0 #initialize the accumulator variable\n",
    "for c in txt:\n",
    "    if c == 't':\n",
    "        t_count = t_count + 1   #increment the counter\n",
    "print(\"t: \" + str(t_count) + \" occurrences\")"
   ]
  },
  {
   "cell_type": "markdown",
   "id": "d3e85dee",
   "metadata": {},
   "source": [
    "Rather than pre-specifying which letters to keep accumulator counts for, we can start with an empty dictionary and add a counter to the dictionary each time we encounter a new thing that we want to start keeping count of."
   ]
  },
  {
   "cell_type": "code",
   "execution_count": 24,
   "id": "838cd46e",
   "metadata": {},
   "outputs": [
    {
     "name": "stdout",
     "output_type": "stream",
     "text": [
      "t: 17584 occurrences\n",
      "s: 11830 occurrences\n"
     ]
    }
   ],
   "source": [
    "f = open('Files/scarlet.txt', 'r')\n",
    "txt = f.read()\n",
    "# now txt is one long string containing all the characters\n",
    "x = {} # start with an empty dictionary\n",
    "for c in txt:\n",
    "    if c not in x:\n",
    "        # we have not seen this character before, so initialize a counter for it\n",
    "        x[c] = 0\n",
    "\n",
    "    #whether we've seen it before or not, increment its counter\n",
    "    x[c] = x[c] + 1\n",
    "\n",
    "print(\"t: \" + str(x['t']) + \" occurrences\")\n",
    "print(\"s: \" + str(x['s']) + \" occurrences\")"
   ]
  },
  {
   "cell_type": "markdown",
   "id": "7192b131",
   "metadata": {},
   "source": [
    "The code is now accumulating counts for all letters, not just ‘s’ and ‘t’."
   ]
  },
  {
   "cell_type": "markdown",
   "id": "e056f38a",
   "metadata": {},
   "source": [
    "Provided is a string saved to the variable name `sentence`. Split the string into a list of words, then create a dictionary that contains each word and the number of times it occurs. Save this dictionary to the variable name `word_counts`."
   ]
  },
  {
   "cell_type": "code",
   "execution_count": 26,
   "id": "bccaf892",
   "metadata": {},
   "outputs": [
    {
     "name": "stdout",
     "output_type": "stream",
     "text": [
      "{'the': 4, 'dog': 1, 'chased': 1, 'rabbit': 2, 'into': 1, 'forest': 1, 'but': 1, 'was': 1, 'too': 1, 'quick.': 1}\n"
     ]
    }
   ],
   "source": [
    "sentence = \"The dog chased the rabbit into the forest but the rabbit was too quick.\"\n",
    "words = sentence.lower().split()\n",
    "word_counts = {}\n",
    "\n",
    "for word in words:\n",
    "    word_counts[word] = word_counts.get(word, 0) + 1\n",
    "    \n",
    "print(word_counts)"
   ]
  },
  {
   "cell_type": "markdown",
   "id": "9dbe0c62",
   "metadata": {},
   "source": [
    "Create a dictionary called `char_d` from the string `stri`, so that the key is a character and the value is how many times it occurs."
   ]
  },
  {
   "cell_type": "code",
   "execution_count": 28,
   "id": "4ae25c1d",
   "metadata": {},
   "outputs": [
    {
     "name": "stdout",
     "output_type": "stream",
     "text": [
      "{'w': 1, 'h': 1, 'a': 2, 't': 1, ' ': 3, 'c': 1, 'n': 1, 'I': 1, 'd': 1, 'o': 1}\n"
     ]
    }
   ],
   "source": [
    "stri = \"what can I do\"\n",
    "char_d = {}\n",
    "for char in stri:\n",
    "    char_d[char] = char_d.get(char, 0) + 1\n",
    "print(char_d)"
   ]
  },
  {
   "cell_type": "markdown",
   "id": "bcd8681d",
   "metadata": {},
   "source": [
    "## Acumulating Results Froma a Dictionary"
   ]
  },
  {
   "cell_type": "markdown",
   "id": "95ee8b39",
   "metadata": {},
   "source": [
    "We can also iterate through the keys in a dictionary, accumulating a result that may depend on the values associated with each of the keys.\n",
    "\n",
    "For example, suppose that we wanted to compute a Scrabble score for the Study in Scarlet text. Each occurrence of the letter ‘e’ earns one point, but ‘q’ earns 10. We have a second dictionary, stored in the variable letter_values. Now, to compute the total score, we start an accumulator at 0 and go through each of the letters in the counts dictionary. For each of those letters that has a letter value (no points for spaces, punctuation, capital letters, etc.), we add to the total score."
   ]
  },
  {
   "cell_type": "code",
   "execution_count": 1,
   "id": "167acd64",
   "metadata": {},
   "outputs": [
    {
     "name": "stdout",
     "output_type": "stream",
     "text": [
      "337353\n"
     ]
    }
   ],
   "source": [
    "f = open('Files/scarlet.txt', 'r')\n",
    "txt = f.read()\n",
    "# now txt is one long string containing all the characters\n",
    "x = {} # start with an empty dictionary\n",
    "for c in txt:\n",
    "    if c not in x:\n",
    "        # we have not seen this character before, so initialize a counter for it\n",
    "        x[c] = 0\n",
    "\n",
    "    #whether we've seen it before or not, increment its counter\n",
    "    x[c] = x[c] + 1\n",
    "\n",
    "letter_values = {'a': 1, 'b': 3, 'c': 3, 'd': 2, 'e': 1, 'f':4, 'g': 2, 'h':4, 'i':1, 'j':8, 'k':5, 'l':1, 'm':3, 'n':1, 'o':1, 'p':3, 'q':10, 'r':1, 's':1, 't':1, 'u':1, 'v':4, 'w':4, 'x':8, 'y':4, 'z':10}\n",
    "\n",
    "tot = 0\n",
    "for y in x:\n",
    "    if y in letter_values:\n",
    "        tot = tot + letter_values[y] * x[y]\n",
    "\n",
    "print(tot)"
   ]
  },
  {
   "cell_type": "markdown",
   "id": "72cb238a",
   "metadata": {},
   "source": [
    "Score for the word \"dog\""
   ]
  },
  {
   "cell_type": "code",
   "execution_count": 2,
   "id": "54e811c2",
   "metadata": {},
   "outputs": [
    {
     "name": "stdout",
     "output_type": "stream",
     "text": [
      "The word 'dog' has a score of: 5\n"
     ]
    }
   ],
   "source": [
    "txt = \"dog\"\n",
    "x = {} # start with an empty dictionary\n",
    "for c in txt:\n",
    "    if c not in x:\n",
    "        # we have not seen this character before, so initialize a counter for it\n",
    "        x[c] = 0\n",
    "\n",
    "    #whether we've seen it before or not, increment its counter\n",
    "    x[c] = x[c] + 1\n",
    "\n",
    "letter_values = {'a': 1, 'b': 3, 'c': 3, 'd': 2, 'e': 1, 'f':4, 'g': 2, 'h':4, 'i':1, 'j':8, 'k':5, 'l':1, 'm':3, 'n':1, 'o':1, 'p':3, 'q':10, 'r':1, 's':1, 't':1, 'u':1, 'v':4, 'w':4, 'x':8, 'y':4, 'z':10}\n",
    "\n",
    "tot = 0\n",
    "for y in x:\n",
    "    if y in letter_values:\n",
    "        tot = tot + letter_values[y] * x[y]\n",
    "\n",
    "print(\"The word 'dog' has a score of:\",tot)"
   ]
  },
  {
   "cell_type": "markdown",
   "id": "a2340bc3",
   "metadata": {},
   "source": [
    "The dictionary `travel` contains the number of countries within each continent that Jackie has traveled to. Find the total number of countries that Jackie has been to, and save this number to the variable name `total`."
   ]
  },
  {
   "cell_type": "code",
   "execution_count": 4,
   "id": "0d6e76bf",
   "metadata": {},
   "outputs": [
    {
     "name": "stdout",
     "output_type": "stream",
     "text": [
      "Jackie has traveled to 19 countries.\n"
     ]
    }
   ],
   "source": [
    "travel = {\"North America\": 2, \"Europe\": 8, \"South America\": 3, \"Asia\": 4, \"Africa\":1, \"Antarctica\": 0, \"Australia\": 1}\n",
    "total = 0\n",
    "for key in travel:\n",
    "    total += travel[key]\n",
    "print(\"Jackie has traveled to\", total, \"countries.\")"
   ]
  },
  {
   "cell_type": "markdown",
   "id": "ff6c143c",
   "metadata": {},
   "source": [
    "## Accumulating the Best Key"
   ]
  },
  {
   "cell_type": "markdown",
   "id": "b11182c0",
   "metadata": {},
   "source": [
    "If we want to find the key associated with the maximum value? It would be nice to just find the maximum value as above, and then look up the key associated with it, but dictionaries don’t work that way. You can look up the value associated with a key, but not the key associated with a value. (The reason for that is there may be more than one key that has the same value).\n",
    "\n",
    "The trick is to have the accumulator keep track of the best key so far instead of the best value so far. For simplicity, let’s assume that there are at least two keys in the dictionary. Then, similar to our first version of computing the max of a list, we can initialize the best-key-so-far to be the first key, and loop through the keys, replacing the best-so-far whenever we find a better one."
   ]
  },
  {
   "cell_type": "code",
   "execution_count": 5,
   "id": "4ac3974f",
   "metadata": {},
   "outputs": [
    {
     "name": "stdout",
     "output_type": "stream",
     "text": [
      "key e has the highest value, 312\n"
     ]
    }
   ],
   "source": [
    "d = {'a': 194, 'b': 54, 'c':34, 'd': 44, 'e': 312, 'full':31}\n",
    "\n",
    "ks = d.keys()\n",
    "best_key_so_far = list(ks)[0]  # Have to turn ks into a real list before using [] to select an item\n",
    "for k in ks:\n",
    "    if d[k] > d[best_key_so_far]:\n",
    "        best_key_so_far = k\n",
    "\n",
    "print(\"key \" + best_key_so_far + \" has the highest value, \" + str(d[best_key_so_far]))\n"
   ]
  },
  {
   "cell_type": "markdown",
   "id": "2be9408f",
   "metadata": {},
   "source": [
    "Create a dictionary called `d` that keeps track of all the characters in the string `placement` and notes how many times each character was seen. Then, find the key with the lowest value in this dictionary and assign that key to `min_value`."
   ]
  },
  {
   "cell_type": "code",
   "execution_count": 6,
   "id": "b882bdaa",
   "metadata": {},
   "outputs": [
    {
     "name": "stdout",
     "output_type": "stream",
     "text": [
      "Key x has the lowest value, 1\n"
     ]
    }
   ],
   "source": [
    "placement = \"Beaches are cool places to visit in spring however the Mackinaw Bridge is near. Most people visit Mackinaw later since the island is a cool place to explore.\"\n",
    "d = {}\n",
    "# tracking all the characters in the string\n",
    "for char in placement:\n",
    "    d[char] = d.get(char, 0) + 1\n",
    "\n",
    "# find the lowest value\n",
    "lstKeys = list(d.keys())\n",
    "min_value = lstKeys[0]\n",
    "\n",
    "for key in lstKeys:\n",
    "    if d[key] < d[min_value]:\n",
    "        min_value = key\n",
    "print(\"Key\", min_value, \"has the lowest value,\", d[min_value])\n"
   ]
  },
  {
   "cell_type": "markdown",
   "id": "ce6c1ffd",
   "metadata": {},
   "source": [
    "## When to use a dictionary"
   ]
  },
  {
   "cell_type": "markdown",
   "id": "6a4c8b4b",
   "metadata": {},
   "source": [
    "* When a piece of data consists of a set of properties of a single item, a dictionary is often better. You could try to keep track mentally that the zip code property is at index 2 in a list, but your code will be easier to read and you will make fewer mistakes if you can look up mydiction[‘zipcode’] than if you look up mylst[2].\n",
    "\n",
    "* When you have a collection of data pairs, and you will often have to look up one of the pairs based on its first value, it is better to use a dictionary than a list of (key, value) tuples. With a dictionary, you can find the value for any (key, value) tuple by looking up the key. With a list of tuples you would need to iterate through the list, examining each pair to see if it had the key that you want.\n",
    "\n",
    "* On the other hand, if you will have a collection of data pairs where multiple pairs share the same first data element, then you can’t use a dictionary, because a dictionary requires all the keys to be distinct from each other."
   ]
  },
  {
   "cell_type": "markdown",
   "id": "d5f32a9b",
   "metadata": {},
   "source": [
    "## Glosary\n",
    "\n",
    "**dictionary**\n",
    "A collection of key-value pairs that maps from keys to values. The keys can be any immutable type, and the values can be any type.\n",
    "\n",
    "**key**\n",
    "A data item that is mapped to a value in a dictionary. Keys are used to look up values in a dictionary.\n",
    "\n",
    "**value**\n",
    "The value that is associated with each key in a dictionary.\n",
    "\n",
    "**key-value pair**\n",
    "One of the pairs of items in a dictionary. Values are looked up in a dictionary by key.\n",
    "\n",
    "**mapping type**\n",
    "A mapping type is a data type comprised of a collection of keys and associated values. Python’s only built-in mapping type is the dictionary. Dictionaries implement the [associative array][] abstract data type.\n",
    "\n",
    "[associative array]:https://en.wikipedia.org/wiki/Associative_array"
   ]
  },
  {
   "cell_type": "markdown",
   "id": "d5329b22",
   "metadata": {},
   "source": [
    "## Excersides"
   ]
  },
  {
   "cell_type": "markdown",
   "id": "a8c38d81",
   "metadata": {},
   "source": [
    "Here’s a table of English to Pirate translations\n",
    "\n",
    "|English|Pirate|\n",
    "|:------:|:------:|\n",
    "|sir|matey|\n",
    "|hotel|fleabag inn|\n",
    "|student|swabbie|\n",
    "|boy|matey|\n",
    "|madam|proud beauty|\n",
    "|professor|foul blaggart|\n",
    "|restaurant|galley|\n",
    "|your|yer|\n",
    "|excuse|arr|\n",
    "|students|swabbies|\n",
    "|are|be|\n",
    "|lawyer|foul blaggart|\n",
    "|the|th’|\n",
    "|restroom|head|\n",
    "|my|me|\n",
    "|hello|avast|\n",
    "|is|be|\n",
    "|man|matey|\n",
    "\n",
    "Write a program that asks the user for a sentence in English and then translates that sentece to Pirate."
   ]
  },
  {
   "cell_type": "code",
   "execution_count": 10,
   "id": "8214fda2",
   "metadata": {},
   "outputs": [
    {
     "name": "stdout",
     "output_type": "stream",
     "text": [
      "Ingrese una frase en inglés:are you a student ?\n",
      "be you a swabbie ? \n"
     ]
    }
   ],
   "source": [
    "eng = [\"sir\", \"hotel\", \"student\", \"boy\", \"madam\", \"professor\", \"restaurant\", \"your\", \"excuse\", \"students\", \"are\", \"lawyer\", \"the\", \"restroom\", \"my\", \"hello\", \"is\", \"man\"]\n",
    "pir = [\"matey\", \"fleabag inn\", \"swabbie\", \"matey\", \"proud beauty\", \"foul blaggart\", \"galley\", \"yer\", \"arr\", \"swabbies\", \"be\", \"foul blaggart\", \"th'\", \"head\", \"me\", \"avast\", \"be\", \"matey\"]\n",
    "\n",
    "eng2pir = dict(zip(eng,pir))\n",
    "\n",
    "eng_sent = input(\"Ingrese una frase en inglés:\")\n",
    "eng_words = eng_sent.lower().split()\n",
    "pir_sent = \"\"\n",
    "\n",
    "for word in eng_words:\n",
    "    if word in eng2pir:\n",
    "        pir_sent = pir_sent + eng2pir[word] + \" \"\n",
    "    else:\n",
    "        pir_sent = pir_sent + word + \" \"\n",
    "print(pir_sent)"
   ]
  },
  {
   "cell_type": "markdown",
   "id": "f892a5bf",
   "metadata": {},
   "source": [
    "Write a program that findes the most used 7 letter word in `scarlet.txt`"
   ]
  },
  {
   "cell_type": "code",
   "execution_count": 15,
   "id": "619eb89d",
   "metadata": {},
   "outputs": [
    {
     "name": "stdout",
     "output_type": "stream",
     "text": [
      "The most used 7 letter word is: Project which is used 79 times\n"
     ]
    }
   ],
   "source": [
    "with open(\"Files/scarlet.txt\") as objFile:\n",
    "    content = objFile.read()\n",
    "    words = content.strip().split()\n",
    "    word_count = {}\n",
    "    for word in words:\n",
    "        word_count[word] = word_count.get(word, 0) + 1\n",
    "\n",
    "lst7Keys = []\n",
    "for key in word_count:\n",
    "    if len(key) == 7:\n",
    "        lst7Keys.append(key)\n",
    "\n",
    "best_key = lst7Keys[0]\n",
    "for key in lst7Keys:\n",
    "    if word_count[key] > word_count[best_key]:\n",
    "        best_key = key\n",
    "\n",
    "print(\"The most used 7 letter word is:\", best_key, \"which is used\", word_count[best_key], \"times\" )    "
   ]
  },
  {
   "cell_type": "code",
   "execution_count": 18,
   "id": "81f91091",
   "metadata": {},
   "outputs": [
    {
     "name": "stdout",
     "output_type": "stream",
     "text": [
      "The most used word is 'Project', which is used 79 times\n"
     ]
    }
   ],
   "source": [
    "# textbook answer\n",
    "f = open('Files/scarlet.txt', 'r')\n",
    "contents = f.read()\n",
    "d = {}\n",
    "\n",
    "for w in contents.split():\n",
    "    if len(w) == 7:\n",
    "        if w not in d:\n",
    "            d[w] = 1\n",
    "        else:\n",
    "            d[w] = d[w] + 1\n",
    "\n",
    "dkeys = list(d.keys())\n",
    "most_used = dkeys[0]\n",
    "for k in dkeys:\n",
    "    if d[k] > d[most_used]:\n",
    "        most_used = k\n",
    "\n",
    "print(\"The most used word is '\"+most_used+\"', which is used \"+str(d[most_used])+\" times\")"
   ]
  },
  {
   "cell_type": "markdown",
   "id": "b754b7b4",
   "metadata": {},
   "source": [
    "Write a program that allows the user to enter a string. It then prints a table of the letters of the alphabet in alphabetical order which occur in the string together with the number of times each letter occurs. Case should be ignored. A sample run of the program might look like this:\n",
    "```python\n",
    "Please enter a sentence: ThiS is String with Upper and lower case Letters.\n",
    "a  2\n",
    "c  1\n",
    "d  1\n",
    "e  5\n",
    "g  1\n",
    "h  2\n",
    "i  4\n",
    "l  2\n",
    "n  2\n",
    "o  1\n",
    "p  2\n",
    "r  4\n",
    "s  5\n",
    "t  5\n",
    "u  1\n",
    "w  2\n",
    "$\n",
    "```"
   ]
  },
  {
   "cell_type": "code",
   "execution_count": 27,
   "id": "bcad6519",
   "metadata": {},
   "outputs": [
    {
     "name": "stdout",
     "output_type": "stream",
     "text": [
      "Enter a sentence:ThiS is String with Upper and lower case Letters\n",
      "a 2\n",
      "c 1\n",
      "d 1\n",
      "e 5\n",
      "g 1\n",
      "h 2\n",
      "i 4\n",
      "l 2\n",
      "n 2\n",
      "o 1\n",
      "p 2\n",
      "r 4\n",
      "s 5\n",
      "t 5\n",
      "u 1\n",
      "w 2\n"
     ]
    }
   ],
   "source": [
    "sentence = input(\"Enter a sentence:\")\n",
    "char_d = {}\n",
    "sentence = sentence.lower()\n",
    "\n",
    "alphabet = 'abcdefghijklmnopqrstuvwxyz'\n",
    "\n",
    "for char in sentence:\n",
    "    if char in alphabet:\n",
    "        char_d[char] = char_d.get(char, 0) + 1\n",
    "    \n",
    "sortKeys = list(char_d.keys())\n",
    "sortKeys.sort()\n",
    "\n",
    "for key in sortKeys:\n",
    "    print(key, char_d[key])"
   ]
  }
 ],
 "metadata": {
  "kernelspec": {
   "display_name": "Python 3",
   "language": "python",
   "name": "python3"
  },
  "language_info": {
   "codemirror_mode": {
    "name": "ipython",
    "version": 3
   },
   "file_extension": ".py",
   "mimetype": "text/x-python",
   "name": "python",
   "nbconvert_exporter": "python",
   "pygments_lexer": "ipython3",
   "version": "3.9.1"
  }
 },
 "nbformat": 4,
 "nbformat_minor": 5
}
