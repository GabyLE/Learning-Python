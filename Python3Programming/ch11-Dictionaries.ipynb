{
 "cells": [
  {
   "cell_type": "markdown",
   "id": "076e5e76",
   "metadata": {},
   "source": [
    "## Aliasing and copying"
   ]
  },
  {
   "cell_type": "markdown",
   "id": "fdc02e8b",
   "metadata": {},
   "source": [
    "Because dictionaries are mutable, you need to be aware of aliasing (as we saw with lists). Whenever two variables refer to the same dictionary object, changes to one affect the other. For example, opposites is a dictionary that contains pairs of opposites."
   ]
  },
  {
   "cell_type": "code",
   "execution_count": 1,
   "id": "de4aea58",
   "metadata": {},
   "outputs": [
    {
     "name": "stdout",
     "output_type": "stream",
     "text": [
      "True\n",
      "left\n"
     ]
    }
   ],
   "source": [
    "opposites = {'up': 'down', 'right': 'wrong', 'true': 'false'}\n",
    "alias = opposites\n",
    "\n",
    "print(alias is opposites)\n",
    "\n",
    "alias['right'] = 'left'\n",
    "print(opposites['right'])\n"
   ]
  },
  {
   "cell_type": "markdown",
   "id": "90de8a38",
   "metadata": {},
   "source": [
    "To modify a dictionary and keep a copy of the original, use the dictionary <code>copy</code> method. Since acopy is a copy of the dictionary, changes to it will not effect the original."
   ]
  },
  {
   "cell_type": "code",
   "execution_count": 3,
   "id": "c651f3e3",
   "metadata": {},
   "outputs": [
    {
     "name": "stdout",
     "output_type": "stream",
     "text": [
      "{'up': 'down', 'right': 'left', 'true': 'false'}\n",
      "{'up': 'down', 'right': 'wrong', 'true': 'false'}\n"
     ]
    }
   ],
   "source": [
    "acopy = opposites.copy()\n",
    "acopy['right'] = 'wrong'    # does not change opposites\n",
    "print(opposites)\n",
    "print(acopy)"
   ]
  },
  {
   "cell_type": "markdown",
   "id": "f8f02e1d",
   "metadata": {},
   "source": [
    "## Accumulating Multiple Results In a Dictionary"
   ]
  },
  {
   "cell_type": "code",
   "execution_count": null,
   "id": "d93e47f8",
   "metadata": {},
   "outputs": [],
   "source": [
    "f = open('scarlet.txt', 'r')\n",
    "txt = f.read()\n",
    "# now txt is one long string containing all the characters\n",
    "t_count = 0 #initialize the accumulator variable\n",
    "for c in txt:\n",
    "    if c == 't':\n",
    "        t_count = t_count + 1   #increment the counter\n",
    "print(\"t: \" + str(t_count) + \" occurrences\")\n"
   ]
  },
  {
   "cell_type": "code",
   "execution_count": null,
   "id": "edabfdb3",
   "metadata": {},
   "outputs": [],
   "source": [
    "f = open('scarlet.txt', 'r')\n",
    "txt = f.read()\n",
    "# now txt is one long string containing all the characters\n",
    "x = {} # start with an empty dictionary\n",
    "for c in txt:\n",
    "    if c not in x:\n",
    "        # we have not seen this character before, so initialize a counter for it\n",
    "        x[c] = 0\n",
    "\n",
    "    #whether we've seen it before or not, increment its counter\n",
    "    x[c] = x[c] + 1\n",
    "\n",
    "print(\"t: \" + str(x['t']) + \" occurrences\")\n",
    "print(\"s: \" + str(x['s']) + \" occurrences\")\n"
   ]
  },
  {
   "cell_type": "markdown",
   "id": "9a77ea56",
   "metadata": {},
   "source": [
    "Provided is a string saved to the variable name sentence. Split the string into a list of words, then create a dictionary that contains each word and the number of times it occurs. Save this dictionary to the variable name word_counts."
   ]
  },
  {
   "cell_type": "code",
   "execution_count": 6,
   "id": "5b828b5f",
   "metadata": {},
   "outputs": [
    {
     "name": "stdout",
     "output_type": "stream",
     "text": [
      "{'the': 4, 'dog': 1, 'chased': 1, 'rabbit': 2, 'into': 1, 'forest': 1, 'but': 1, 'was': 1, 'too': 1, 'quick.': 1}\n"
     ]
    }
   ],
   "source": [
    "sentence = \"The dog chased the rabbit into the forest but the rabbit was too quick.\"\n",
    "words = sentence.lower().split()\n",
    "word_counts = {}\n",
    "for word in words:\n",
    "    word_counts[word] = word_counts.get(word, 0) + 1\n",
    "print(word_counts)"
   ]
  },
  {
   "cell_type": "markdown",
   "id": "c4bc06f5",
   "metadata": {},
   "source": [
    "## Accumulating Results From a Dictionary"
   ]
  },
  {
   "cell_type": "markdown",
   "id": "e64ad486",
   "metadata": {},
   "source": [
    " we wanted to compute a Scrabble score for the Study in Scarlet text. Each occurrence of the letter ‘e’ earns one point, but ‘q’ earns 10. We have a second dictionary, stored in the variable letter_values. Now, to compute the total score, we start an accumulator at 0 and go through each of the letters in the counts dictionary. For each of those letters that has a letter value (no points for spaces, punctuation, capital letters, etc.), we add to the total score."
   ]
  },
  {
   "cell_type": "code",
   "execution_count": 7,
   "id": "334e007a",
   "metadata": {},
   "outputs": [
    {
     "name": "stdout",
     "output_type": "stream",
     "text": [
      "13\n"
     ]
    }
   ],
   "source": [
    "# f = open('scarlet2.txt', 'r')\n",
    "txt = \"quro\"\n",
    "# now txt is one long string containing all the characters\n",
    "x = {} # start with an empty dictionary\n",
    "for c in txt:\n",
    "    if c not in x:\n",
    "        # we have not seen this character before, so initialize a counter for it\n",
    "        x[c] = 0\n",
    "\n",
    "    #whether we've seen it before or not, increment its counter\n",
    "    x[c] = x[c] + 1\n",
    "\n",
    "letter_values = {'a': 1, 'b': 3, 'c': 3, 'd': 2, 'e': 1, 'f':4, 'g': 2, 'h':4, 'i':1, 'j':8, 'k':5, 'l':1, 'm':3, 'n':1, 'o':1, 'p':3, 'q':10, 'r':1, 's':1, 't':1, 'u':1, 'v':4, 'w':4, 'x':8, 'y':4, 'z':10}\n",
    "\n",
    "tot = 0\n",
    "for y in x:\n",
    "    if y in letter_values:\n",
    "        tot = tot + letter_values[y] * x[y]\n",
    "\n",
    "print(tot)\n"
   ]
  },
  {
   "cell_type": "markdown",
   "id": "7c61ba2c",
   "metadata": {},
   "source": [
    "The dictionary travel contains the number of countries within each continent that Jackie has traveled to. Find the total number of countries that Jackie has been to, and save this number to the variable name total. "
   ]
  },
  {
   "cell_type": "code",
   "execution_count": 8,
   "id": "bd059b69",
   "metadata": {},
   "outputs": [
    {
     "name": "stdout",
     "output_type": "stream",
     "text": [
      "Jackie has been to 19 countries.\n"
     ]
    }
   ],
   "source": [
    "travel = {\"North America\": 2, \"Europe\": 8, \"South America\": 3, \"Asia\": 4, \"Africa\":1, \"Antarctica\": 0, \"Australia\": 1}\n",
    "\n",
    "total = 0\n",
    "for key in travel:\n",
    "    total += travel[key]\n",
    "print(\"Jackie has been to\", total, \"countries.\")"
   ]
  },
  {
   "cell_type": "markdown",
   "id": "b13b07b5",
   "metadata": {},
   "source": [
    "## Accumulating the Best Key"
   ]
  },
  {
   "cell_type": "markdown",
   "id": "440762f9",
   "metadata": {},
   "source": [
    "The trick is to have the accumulator keep track of the best key so far instead of the best value so far. For simplicity, let’s assume that there are at least two keys in the dictionary. Then, similar to our first version of computing the max of a list, we can initialize the best-key-so-far to be the first key, and loop through the keys, replacing the best-so-far whenever we find a better one."
   ]
  },
  {
   "cell_type": "markdown",
   "id": "b4c93832",
   "metadata": {},
   "source": [
    "Write a program that finds the key in a dictionary that has the maximum value. If two keys have the same maximum value, it’s OK to print out either one."
   ]
  },
  {
   "cell_type": "code",
   "execution_count": 9,
   "id": "578eea18",
   "metadata": {},
   "outputs": [
    {
     "name": "stdout",
     "output_type": "stream",
     "text": [
      "key e has the highest value, 312\n"
     ]
    }
   ],
   "source": [
    "d = {'a': 194, 'b': 54, 'c':34, 'd': 44, 'e': 312, 'full':31}\n",
    "\n",
    "ks = d.keys()\n",
    "best_key_so_far = list(ks)[0]  # Have to turn ks into a real list before using [] to select an item\n",
    "for k in ks:\n",
    "    if d[k] > d[best_key_so_far]:\n",
    "        best_key_so_far = k\n",
    "\n",
    "print(\"key \" + best_key_so_far + \" has the highest value, \" + str(d[best_key_so_far]))"
   ]
  },
  {
   "cell_type": "markdown",
   "id": "3dc35b54",
   "metadata": {},
   "source": [
    "Create a dictionary called d that keeps track of all the characters in the string placement and notes how many times each character was seen. Then, find the key with the lowest value in this dictionary and assign that key to min_value."
   ]
  },
  {
   "cell_type": "code",
   "execution_count": 12,
   "id": "2402be22",
   "metadata": {},
   "outputs": [
    {
     "name": "stdout",
     "output_type": "stream",
     "text": [
      "x : 1\n"
     ]
    }
   ],
   "source": [
    "placement = \"Beaches are cool places to visit in spring however the Mackinaw Bridge is near. Most people visit Mackinaw later since the island is a cool place to explore.\"\n",
    "d = {}\n",
    "for char in placement:\n",
    "    d[char] = d.get(char, 0) + 1\n",
    "    \n",
    "keys = list(d.keys())\n",
    "min_value = keys[0]\n",
    "for key in keys:\n",
    "    if d[key] < d[min_value]:\n",
    "        min_value = key\n",
    "print(min_value, \":\" , d[min_value])"
   ]
  },
  {
   "cell_type": "markdown",
   "id": "f3b00dc6",
   "metadata": {},
   "source": [
    "## When to use a dictionary"
   ]
  },
  {
   "cell_type": "markdown",
   "id": "fbf457dd",
   "metadata": {},
   "source": [
    "* When a piece of data consists of a set of properties of a single item, a dictionary is often better. You could try to keep track mentally that the zip code property is at index 2 in a list, but your code will be easier to read and you will make fewer mistakes if you can look up mydiction[‘zipcode’] than if you look up mylst[2].\n",
    "\n",
    "* When you have a collection of data pairs, and you will often have to look up one of the pairs based on its first value, it is better to use a dictionary than a list of (key, value) tuples. With a dictionary, you can find the value for any (key, value) tuple by looking up the key. With a list of tuples you would need to iterate through the list, examining each pair to see if it had the key that you want.\n",
    "\n",
    "* On the other hand, if you will have a collection of data pairs where multiple pairs share the same first data element, then you can’t use a dictionary, because a dictionary requires all the keys to be distinct from each other."
   ]
  },
  {
   "cell_type": "markdown",
   "id": "961204ac",
   "metadata": {},
   "source": [
    "## Glossary"
   ]
  },
  {
   "cell_type": "markdown",
   "id": "83aa79c0",
   "metadata": {},
   "source": [
    "dictionary\n",
    "A collection of key-value pairs that maps from keys to values. The keys can be any immutable type, and the values can be any type.\n",
    "\n",
    "key\n",
    "A data item that is mapped to a value in a dictionary. Keys are used to look up values in a dictionary.\n",
    "\n",
    "value\n",
    "The value that is associated with each key in a dictionary.\n",
    "\n",
    "key-value pair\n",
    "One of the pairs of items in a dictionary. Values are looked up in a dictionary by key.\n",
    "\n",
    "mapping type\n",
    "A mapping type is a data type comprised of a collection of keys and associated values. Python’s only built-in mapping type is the dictionary. Dictionaries implement the associative array abstract data type.\n",
    "\n",
    "https://en.wikipedia.org/wiki/Associative_array"
   ]
  },
  {
   "cell_type": "markdown",
   "id": "3f448b4f",
   "metadata": {},
   "source": []
  }
 ],
 "metadata": {
  "kernelspec": {
   "display_name": "Python 3",
   "language": "python",
   "name": "python3"
  },
  "language_info": {
   "codemirror_mode": {
    "name": "ipython",
    "version": 3
   },
   "file_extension": ".py",
   "mimetype": "text/x-python",
   "name": "python",
   "nbconvert_exporter": "python",
   "pygments_lexer": "ipython3",
   "version": "3.8.3"
  }
 },
 "nbformat": 4,
 "nbformat_minor": 5
}
